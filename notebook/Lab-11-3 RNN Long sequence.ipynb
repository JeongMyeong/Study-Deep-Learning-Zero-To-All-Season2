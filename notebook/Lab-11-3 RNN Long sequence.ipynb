{
 "cells": [
  {
   "cell_type": "code",
   "execution_count": 18,
   "metadata": {},
   "outputs": [],
   "source": [
    "import torch\n",
    "import torch.optim as optim\n",
    "import numpy as np"
   ]
  },
  {
   "cell_type": "code",
   "execution_count": 19,
   "metadata": {},
   "outputs": [
    {
     "data": {
      "text/plain": [
       "<torch._C.Generator at 0x258a4fa7c10>"
      ]
     },
     "execution_count": 19,
     "metadata": {},
     "output_type": "execute_result"
    }
   ],
   "source": [
    "torch.manual_seed(42)"
   ]
  },
  {
   "cell_type": "code",
   "execution_count": 20,
   "metadata": {},
   "outputs": [],
   "source": [
    "sentence = (\"if you want to build a ship, don't drum up people together to \"\n",
    "            \"collect wood and don't assign them tasks and work, but rather \"\n",
    "            \"teach them to long for the endless immensity of the sea.\")"
   ]
  },
  {
   "cell_type": "code",
   "execution_count": 21,
   "metadata": {},
   "outputs": [],
   "source": [
    "char_set = list(set(sentence))\n",
    "char_dic = {c: i for i, c in enumerate(char_set)}"
   ]
  },
  {
   "cell_type": "code",
   "execution_count": 22,
   "metadata": {},
   "outputs": [],
   "source": [
    "dic_size = len(char_dic)\n",
    "hidden_size = len(char_dic)\n",
    "sequence_length = 10  # Any arbitrary number\n",
    "learning_rate = 0.1"
   ]
  },
  {
   "cell_type": "code",
   "execution_count": 23,
   "metadata": {},
   "outputs": [],
   "source": [
    "x_data = []\n",
    "y_data = []\n",
    "\n",
    "for i in range(0, len(sentence) - sequence_length):\n",
    "    x_str = sentence[i:i + sequence_length]\n",
    "    y_str = sentence[i + 1: i + sequence_length + 1]\n",
    "#     print(i, x_str, '->', y_str)\n",
    "\n",
    "    x_data.append([char_dic[c] for c in x_str])  # x str to index\n",
    "    y_data.append([char_dic[c] for c in y_str])  # y str to index\n",
    "\n",
    "x_one_hot = [np.eye(dic_size)[x] for x in x_data]"
   ]
  },
  {
   "cell_type": "code",
   "execution_count": 24,
   "metadata": {},
   "outputs": [],
   "source": [
    "X = torch.FloatTensor(x_one_hot)\n",
    "Y = torch.LongTensor(y_data)"
   ]
  },
  {
   "cell_type": "code",
   "execution_count": 25,
   "metadata": {},
   "outputs": [],
   "source": [
    "class Net(torch.nn.Module):\n",
    "    def __init__(self, input_dim, hidden_dim, layers):\n",
    "        super(Net, self).__init__()\n",
    "        self.rnn = torch.nn.RNN(input_dim, hidden_dim, num_layers=layers, batch_first=True)\n",
    "        self.fc = torch.nn.Linear(hidden_dim, hidden_dim, bias=True)\n",
    "\n",
    "    def forward(self, x):\n",
    "        x, _status = self.rnn(x)\n",
    "        x = self.fc(x)\n",
    "        return x\n",
    "\n",
    "\n",
    "net = Net(dic_size, hidden_size, 2)"
   ]
  },
  {
   "cell_type": "code",
   "execution_count": 26,
   "metadata": {},
   "outputs": [],
   "source": [
    "criterion = torch.nn.CrossEntropyLoss()\n",
    "optimizer = optim.Adam(net.parameters(), learning_rate)"
   ]
  },
  {
   "cell_type": "code",
   "execution_count": 27,
   "metadata": {},
   "outputs": [
    {
     "name": "stdout",
     "output_type": "stream",
     "text": [
      "c'llllllclllccllccbllclclllllcclcllccllllclllclllllcllllllllllcclllcllcblllccllcclcclcccllcllllllllclclccllcbllllcclllllllllllccllllllllllbllllcllllclllcllllclllllllllllcllllllcll\n",
      " iiiiiiiiiiiiiiiiiiiiiiiiiiiiiiiiiiiiiiiiiiiiiiiiiiiiiiiiiiiiiiiiiiiiiiiiiiiiiiiiiiiiiiiiiiiiiiiiiiiiiiiiiiiiiiiiiiiiiiiiiiiiiiiiiiiiiiiiiiiiiiiiiiiiiiiiiiiiiiiiiiiiiiiiiiiiiiiiii\n",
      "                            e                                                     e                           e                                           e   e                    \n",
      "e nue tu.r   rr    r    r r   rr   rr   r   rr      r   rr  rr   rr     r   rr   r   re err   rr  rr   rr   uur  u    rr  r       rr    r    r   r   r   rr     rr  rrr      rr   r\n",
      "t aht a thdtomdd mdddom dmh t m amd edtmudddttdtdddo d om dou dom tdotoom doodtoo aod adtm doo ddoo dtd aduoo atd aduha tm domadod domdod dom too eommddo do dtmd tm doumtoddomddom\n",
      "t dot t pootho tooootoohtuoothopdooodptooooputotptodoooeo phootooo toopoooooootoootuoodptoooh outooophooputootopooduooo thtdodpooooetoeoootooottoopooo udotupoepo to ohdopuo  othdo\n",
      "e t   t o   ot   t   ot  o  to    t    t    o o    o       od  o t  ot    t     d   t      too        t   t o   t   t       oo t t    t    o  d o   t   o t   to   t ooot ot o  oot\n",
      "e   o                                     t                               t                     t                   t                                                              \n",
      "n   n   n  r     o      i   t r   r                         r  r           nr           r    r   o          n       t        r         o   r  tor t r t r      o        r    r t   \n",
      "ntton tor  ro to nt tnd in  to  t r  toim tor      r   e  ton  nd    to   tot i e t i  to   oe tin    tn  inr t rot ro  i  tor tot  n tnr trt tor tor tod t t io tor  rtio toe t r \n",
      "nt oet od  wo  ttot toihep  toeptheo t ao  e  te thr'  em toad od  t io   to  the toio  o   oem io    to  tor   io  th  eo ton   t  m aoe eod tos'themtod ent io  od  mton toent em\n",
      "ateoeteoet thepht t tod epe toepthio ptiper   h pthnp  am thed  t  thtord tod the thio  t   oem toem  iod toet  iothio  en toep  thap toep  t tod them hdhe't iam pthepto  thepthap\n",
      "attoetaoet tonpot o tod ept toepthao toaoepe  m  thdp  em theponeo thtood tod tod thio eoe  hem aoem  aod ton   iodhdo  ed toepe t em toepend ton toemtod e't aam pd e tom t eptha'\n",
      "attoe toet aontod t tot epe tonst do toaoepe p n ton   em toetonpe t ton  tod dod todotepn toem do se aot ton t dot d   ep toepe t am aontons don toemtod e'ttaom rd a tor toe't a'\n",
      "etton tont ao t d m tod epe ton t do tod  tondle t u   em toet nle e ton  tod ton todot on toem to t tand ton t dnt d t er t em  t er to tens ton toemtod e  tanm nr treon toemt a'\n",
      "emtor tor  to tould tod emn tonpt do t dr pondle ton't em to ton e d tons tod toslt ao tonlto m to m  t d ton t dot d s er to m  t er to tens ton toemtod e   tn  rd ertor toemt u'\n",
      "emtor tont to could tod epd ton't do t am lo sle toslt er to tonle t tong t d toslt to ton t  m to  t i d tor t iu  d d er  o m  t er to ponc tor toemtod e   anm ns tr or to mthu'\n",
      "emior to t to toild tothip  d nlt to t ap to gle ths t er to ponle , tong wnd wonlt iotian them to    ind ton t in ha t er to lh them to pong tor themins e   il  n ttr or to mthip\n",
      "lmion to t to toild dodhep, don'thto t ap po p   thd t er to ponle , torc wnd ton'thiot er toem to  e ind too , iodhd ther toeph them to pong tor themind an hilh nd im or toemthi'\n",
      "lhion to t eo poild d d ep, ton't io chap poodlo tod t em to ponle , tood and w d't dotirn toem toe e ind woo , bod d them toechethem to ponphtod toemind an hiph nd am or toemthip\n",
      "lhion to d eo thild d dhep, ton'thto t ap po dle ton t em to posle t aood and won'thao irn toer toeki and woo , bodod them toeph them to ponp tor toemind anshaph nd amior toemt ip\n",
      "lhion to t to thild dlthip, don't tonk ap po dle ton t em to bosle t aood and won't aotirn toer toeks and woo , tot dnther toech toer tospong tor toemind ans agm nc ty on toemtoap\n",
      "lmion to t to beild d thip, don't don  ap poodle ton t em tosbonle t aood and d n't dntipn toem tos s and doo , bot dathem teech them tosponc won toemind ans agm nc ty on themthas\n",
      "lmior wo t to beild d thip, don't douc apspoodle ton t em to bo le t aood wnd won't do ign t em tosks and wor , tot dathem teech them to ceng wor themtnd ens an  ncity on themthas\n",
      "lmior wo t to beild d thipe don't doum ay peodle t g them to bo le t aord wnd don't do ign toem tosks and dor , but dather to ch them to leng wor themtnd ens ape nc,ty or themthul\n",
      "gmior woot to build dsthipe don't doum apspeodle tog ther to bh le t dord wnd don't dosign them tosks and dor , tut dather to ch them to leng won themtnd ens agm nsity or themthul\n",
      "fmior woot to build dsthip, don't doum ap peodle tog ther to bh le t wood wnd don't dnsirn them tosks and dook, tut rathem to ch them to leng aor toemend ess ame nsity or themehu'\n",
      "fmior wont to build dsthip, don't doum ap peogle tog ther to lo le t wood wnd don't dnsign toem tosks and wook, but rathem to ch them to leng wor themens ess ame nsity of themehu'\n",
      "gmiorkwont to build dsthip, don't woum ap peogle together to lo le t wood and don't wssign toem tosks and dork, but rathem to ch them to leng tor themend ess amm nsity of themehn'\n",
      "gmior wont to build dsship, don't woum ap peogle together to co le t aood and don't wnsign toem tosks and dook, but rathem to ch them to ceng tor themend ess amm nsity of themeha'\n",
      "gmior wont to build dsship, don't drum ap peogle together to co le t aood and don't assign them tosks and dook, but rathem to ch them to ceng for themend ess amm nsity of themeham\n",
      "ghion wonthto build dsship, don't drum ap people together to co lect wood and don't dssign them tosks and dork, but rather to ch them to ceng for themend ess ammensity of theme am\n",
      "ghion wont to build dsship, don't drum ap peodle together to co lect wood and don't dssign them tosks and dork, but rather to ch them to ceng for the end ess ammensity of the sha'\n",
      "gmion wont to build dsship, don't drum ap people together to co lect wood and don't dssign them tosks and dork, but rather toach them to cong for the snd ess immensity of the sha'\n",
      "gmion wont to build alship, don't arum ap people together to co lect wood and don't dssign them tosks and dork, but rather toach them to cong for the snd essiimmensity of the s a'\n",
      "gmioo wont to build alship, don't arum up people together to co lect wood and don't assign them tosks and dork, but rather toach them to cong for the sndless immensity of the s a'\n",
      "pmior wont to build alship, don't arum up people together to co lect wood and don't assign them tosks and dork, but rather toach them to cong for the sndless immensity of the s am\n",
      "phior wont to build a ship, don't drum up people together to co lect wood and don't dssign them tosks and dork, but rhther toach them to cong for the endless immensity of the s am\n",
      "pyior wont to build a ship, don't drum up people together to collect wood and don't dssign them tosks and dork, but rhther toach them to long for the endless immensity of the eha'\n",
      "pyior wont to build a ship, don't doum up people together to collect wood and don't assign them tosks and dork, but rather toach them to long for the sndless immensity of the s a'\n",
      "myior wont to build a ship, don't drum up people together to collect wood and don't dssign them tosks and dork, but rather toach them to long for the snd ess immensity of the s a'\n",
      "myior want to build a ship, don't drum up people together to collect wood and don't dssign them tosks and dork, but rather toach them ta long for the sndless immensity of the s a'\n",
      "mmior want to build a ship, don't drum up people together to collect wood and don't dssign them tasks and work, but rather toach them ta long for the sndless immensity of the s a'\n",
      "mmior want to build a ship, don't drum up people together to collect wood and don't dssign them tasks and work, but rather toach them ta long for the endless immensity of the s a \n",
      "lmior want to build a ship, don't drum up people together to collect wood and don't dssign them tasks and work, but rather toach them ta long for the endless immensity of the e a \n",
      "tmior want to build a ship, don't drum up people together to collect wood and won't dssign them tasks and work, but rather toach them ta long for the endless immensity of the s a'\n",
      "tmior want to build a ship, don't drum up people together to collect wood and don't dssign them tasks and work, but rather toach them ta long for the endless immensity of the s a'\n",
      "tmior want to build a ship, don't arum up people together te collect wood and don't assign them tasks and work, but rather teach them ta long for the endless immensity of the s a'\n",
      "tmiou want to build a ship, don't arum up people together to collect wood and don't assign them tasks and work, but rather teach them ta long for the endless immensity of the s a'\n",
      "pmiou want to build a ship, don't arum up people together to collect wood and don't assign them tasks and work, but rather toach them ta long for the endless immensity of the seas\n",
      "pmiou want to build a ship, don't arum up people together to collect wood and don't assign them tasks and work, but rather toach them ta long for the endless immensity of the seas\n",
      "pmiou want to build a ship, don't arum up people together te collect wood and don't assign them tasks and work, but rather teach them ta long for the endless immensity of the sea.\n",
      "p,iou want to build a ship, don't drum up people together te collect wood and don't assign them tasks and work, but rather teach them ta long for the endless immensity of the sea.\n",
      "l,you want to build a ship, don't drum up people together to collect wood and don't assign them tasks and work, but rather teach them ta long for the endless immensity of the sea.\n",
      "l,you want to build a ship, don't drum up people together to collect wood and don't assign them tasks and work, but rather toach them ta long for the endless immensity of the sea.\n",
      "f,you want to build a ship, don't arum up people together to collect wood and don't assign them tasks and work, but rather toach them ta long for the endless immensity of the sea.\n",
      "fnyou want to build a ship, don't arum up people together to collect wood and don't assign them tasks and work, but rather teach them ta long for the endless immensity of the sea.\n",
      "fyyou want to build a ship, don't arum up people together te collect wood and don't assign them tasks and work, but rather teach them ta long for the endless immensity of the sea.\n",
      "fyyou want to build a ship, don't drum up people together te collect wood and don't assign them tasks and work, but rather teach them ta long for the endless immensity of the sea.\n",
      "lyyou want to build a ship, don't drum up people together te collect wood and don't assign them tasks and work, but rather teach them ta long for the endless immensity of the sea.\n",
      "lyyou want to build a ship, don't drum up people together to collect wood and don't assign them tasks and work, but rather toach them ta long for the endless immensity of the sea.\n",
      "lyyou want to build a ship, don't drum up people together to collect wood and don't assign them tasks and work, but rather toach them ta long for the endless immensity of the sea.\n",
      "lyyou want to build a ship, don't drum up people together to collect wood and don't assign them tasks and work, but rather teach them ta long for the endless immensity of the sea.\n",
      "lyyou want to build a ship, don't arum up people together te collect wood and don't assign them tasks and work, but rather teach them ta long for the endless immensity of the sea.\n",
      "lyyou want to build a ship, don't drum up people together to collect wood and don't assign them tasks and work, but rather teach them ta long for the endless immensity of the sea.\n",
      "lyyou want to build a ship, don't drum up people together to collect wood and don't assign them tasks and work, but rather teach them ta long for the endless immensity of the sea.\n",
      "lyyou want to build a ship, don't drum up people together to collect wood and don't assign them tasks and work, but rather teach them ta long for the endless immensity of the sea.\n",
      "lyyou want to build a ship, don't arum up people together to collect wood and don't assign them tasks and work, but rather teach them ta long for the endless immensity of the sea.\n",
      "lyyou want to build a ship, don't arum up people together to collect wood and don't assign them tasks and work, but rather teach them ta long for the endless immensity of the sea.\n",
      "lyyou want to build a ship, don't drum up people together to collect wood and won't assign them tasks and work, but rather teach them ta long for the endless immensity of the sea.\n",
      "lyyou want to build a ship, don't drum up people together to collect wood and don't assign them tasks and work, but rather teach them ta long for the endless immensity of the sea.\n",
      "pyyou want to build a ship, don't drum up people together te collect wood and aon't dssign them tasks and work, but rather teach them ta long for the endless immensity of the sea.\n",
      "pyyou want to build a ship, don't drum up people together to collect wood and don't assign them tasks and work, but rather teach them ta long for the endless immensity of the sea.\n",
      "pyyou want to build a ship, don't drum up people together to collect wood and don't assign them tasks and work, but rather teach them ta long for the endless immensity of the sea.\n",
      "pyyou want to build a ship, don't arum up people together to collect wood and don't assign them tasks and work, but rather teach them ta long for the endless immensity of the sea.\n",
      "pnyou want to build a ship, don't arum up people together to collect wood and don't assign them tasks and work, but rather teach them ta long for the endless immensity of the sea.\n",
      "pnyou want to build a ship, don't drum up people together to collect wood and don't assign them tasks and work, but rather teach them ta long for the endless immensity of the sea.\n",
      "pnyou want to build a ship, don't drum up people together to collect wood and don't assign them tasks and work, but rather teach them ta long for the endless immensity of the sea.\n",
      "phyou want to build a ship, don't drum up people together to collect wood and don't assign them tasks and work, but rather teach them ta long for the endless immensity of the sea.\n",
      "phyou want to build a ship, don't drum up people together to collect wood and don't assign them tasks and work, but rather teach them ta long for the endless immensity of the sea.\n",
      "phyou want to build a ship, don't drum up people together to collect wood and don't assign them tasks and work, but rather teach them ta long for the endless immensity of the sea.\n",
      "phyou want to build a ship, don't drum up people together to collect wood and don't assign them tasks and work, but rather teach them ta long for the endless immensity of the sea.\n",
      "p you want to build a ship, don't drum up people together to collect wood and don't assign them tasks and work, but rather teach them ta long for the endless immensity of the sea.\n",
      "m you want to build a ship, don't drum up people together to collect wood and don't assign them tasks and work, but rather teach them ta long for the endless immensity of the sea.\n",
      "g you want to build a ship, don't drum up people together to collect wood and don't assign them tasks and work, but rather teach them ta long for the endless immensity of the sea.\n",
      "g you want to build a ship, don't drum up people together to collect wood and don't assign them tasks and work, but rather teach them to long for the endless immensity of the sea.\n",
      "f you want to build a ship, don't drum up people together to collect wood and don't assign them tasks and work, but rather teach them ta long for the endless immensity of the sea.\n",
      "g you want to build a ship, don't drum up people together to collect wood and don't assign them tasks and work, but rather teach them ta long for the endless immensity of the sea.\n",
      "g you want to build a ship, don't drum up people together to collect wood and don't assign them tasks and work, but rather teach them to long for the endless immensity of the sea.\n",
      "p you want to build a ship, don't drum up people together to collect wood and don't assign them tasks and work, but rather teach them to long for the endless immensity of the sea.\n",
      "p you want to build a ship, don't drum up people together to collect wood and don't assign them tasks and work, but rather teach them to long for the endless immensity of the sea.\n",
      "p you want to build a ship, don't drum up people together to collect wood and don't assign them tasks and work, but rather teach them ta long for the endless immensity of the sea.\n",
      "p you want to build a ship, don't drum up people together to collect wood and don't assign them tasks and work, but rather teach them to long for the endless immensity of the sea.\n",
      "p you want to build a ship, don't drum up people together to collect wood and don't assign them tasks and work, but rather teach them to long for the endless immensity of the sea.\n",
      "p you want to build a ship, don't drum up people together to collect wood and don't assign them tasks and work, but rather teach them to long for the endless immensity of the sea.\n",
      "p you want to build a ship, don't drum up people together to collect wood and don't assign them tasks and work, but rather teach them to long for the endless immensity of the sea.\n",
      "p you want to build a ship, don't drum up people together to collect wood and don't assign them tasks and work, but rather teach them to long for the endless immensity of the sea.\n",
      "p you want to build a ship, don't drum up people together to collect wood and don't assign them tasks and work, but rather teach them to long for the endless immensity of the sea.\n",
      "t you want to build a ship, don't drum up people together to collect wood and don't assign them tasks and work, but rather teach them to long for the endless immensity of the sea.\n",
      "t you want to build a ship, don't drum up people together to collect wood and don't assign them tasks and work, but rather teach them to long for the endless immensity of the sea.\n"
     ]
    }
   ],
   "source": [
    "for i in range(100):\n",
    "    optimizer.zero_grad()\n",
    "    outputs = net(X)\n",
    "    loss = criterion(outputs.view(-1, dic_size), Y.view(-1))\n",
    "    loss.backward()\n",
    "    optimizer.step()\n",
    "\n",
    "    results = outputs.argmax(dim=2)\n",
    "    predict_str = \"\"\n",
    "    for j, result in enumerate(results):\n",
    "        # print(i, j, ''.join([char_set[t] for t in result]), loss.item())\n",
    "        if j == 0:\n",
    "            predict_str += ''.join([char_set[t] for t in result])\n",
    "        else:\n",
    "            predict_str += char_set[result[-1]]\n",
    "\n",
    "    print(predict_str)"
   ]
  },
  {
   "cell_type": "code",
   "execution_count": null,
   "metadata": {},
   "outputs": [],
   "source": []
  }
 ],
 "metadata": {
  "kernelspec": {
   "display_name": "Python 3",
   "language": "python",
   "name": "python3"
  },
  "language_info": {
   "codemirror_mode": {
    "name": "ipython",
    "version": 3
   },
   "file_extension": ".py",
   "mimetype": "text/x-python",
   "name": "python",
   "nbconvert_exporter": "python",
   "pygments_lexer": "ipython3",
   "version": "3.7.3"
  }
 },
 "nbformat": 4,
 "nbformat_minor": 4
}
