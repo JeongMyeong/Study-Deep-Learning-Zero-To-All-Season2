{
 "cells": [
  {
   "cell_type": "code",
   "execution_count": 1,
   "metadata": {},
   "outputs": [],
   "source": [
    "import torch\n",
    "import torch.optim as optim\n",
    "import numpy as np"
   ]
  },
  {
   "cell_type": "code",
   "execution_count": 2,
   "metadata": {},
   "outputs": [
    {
     "data": {
      "text/plain": [
       "<torch._C.Generator at 0x21549517c10>"
      ]
     },
     "execution_count": 2,
     "metadata": {},
     "output_type": "execute_result"
    }
   ],
   "source": [
    "torch.manual_seed(42)"
   ]
  },
  {
   "cell_type": "code",
   "execution_count": 3,
   "metadata": {},
   "outputs": [],
   "source": [
    "sample = \" if you want you\""
   ]
  },
  {
   "cell_type": "code",
   "execution_count": 4,
   "metadata": {},
   "outputs": [
    {
     "name": "stdout",
     "output_type": "stream",
     "text": [
      "{'t': 0, 'f': 1, 'u': 2, 'o': 3, 'y': 4, 'a': 5, 'n': 6, ' ': 7, 'w': 8, 'i': 9}\n"
     ]
    }
   ],
   "source": [
    "char_set = list(set(sample))\n",
    "char_dic = {c: i for i, c in enumerate(char_set)}\n",
    "print(char_dic)"
   ]
  },
  {
   "cell_type": "code",
   "execution_count": 5,
   "metadata": {},
   "outputs": [],
   "source": [
    "dic_size = len(char_dic)\n",
    "hidden_size = len(char_dic)\n",
    "learning_rate = 0.1"
   ]
  },
  {
   "cell_type": "code",
   "execution_count": 6,
   "metadata": {},
   "outputs": [],
   "source": [
    "sample_idx = [char_dic[c] for c in sample]\n",
    "x_data = [sample_idx[:-1]]\n",
    "x_one_hot = [np.eye(dic_size)[x] for x in x_data]\n",
    "y_data = [sample_idx[1:]]"
   ]
  },
  {
   "cell_type": "code",
   "execution_count": 10,
   "metadata": {},
   "outputs": [],
   "source": [
    "X = torch.FloatTensor(x_one_hot)\n",
    "Y = torch.LongTensor(y_data)"
   ]
  },
  {
   "cell_type": "code",
   "execution_count": 11,
   "metadata": {},
   "outputs": [],
   "source": [
    "rnn = torch.nn.RNN(dic_size, hidden_size, batch_first=True)"
   ]
  },
  {
   "cell_type": "code",
   "execution_count": 12,
   "metadata": {},
   "outputs": [],
   "source": [
    "criterion = torch.nn.CrossEntropyLoss()\n",
    "optimizer = optim.Adam(rnn.parameters(), learning_rate)"
   ]
  },
  {
   "cell_type": "code",
   "execution_count": 13,
   "metadata": {},
   "outputs": [
    {
     "name": "stdout",
     "output_type": "stream",
     "text": [
      "0 loss:  2.4048357009887695 prediction:  [[9 3 0 5 5 4 4 9 3 4 3 4 9 4 9]] true Y:  [[9, 1, 7, 4, 3, 2, 7, 8, 5, 6, 0, 7, 4, 3, 2]] prediction str:  iotaayyioyoyiyi\n",
      "1 loss:  2.0751237869262695 prediction:  [[9 3 0 4 3 4 4 9 3 4 4 7 4 4 4]] true Y:  [[9, 1, 7, 4, 3, 2, 7, 8, 5, 6, 0, 7, 4, 3, 2]] prediction str:  iotyoyyioyy yyy\n",
      "2 loss:  1.828656554222107 prediction:  [[4 3 7 4 3 2 7 7 5 6 0 7 7 3 7]] true Y:  [[9, 1, 7, 4, 3, 2, 7, 8, 5, 6, 0, 7, 4, 3, 2]] prediction str:  yo you  ant  o \n",
      "3 loss:  1.6346608400344849 prediction:  [[7 3 7 4 3 2 7 8 5 6 0 7 4 3 2]] true Y:  [[9, 1, 7, 4, 3, 2, 7, 8, 5, 6, 0, 7, 4, 3, 2]] prediction str:   o you want you\n",
      "4 loss:  1.5206987857818604 prediction:  [[7 3 7 4 3 2 7 8 5 6 0 7 4 3 2]] true Y:  [[9, 1, 7, 4, 3, 2, 7, 8, 5, 6, 0, 7, 4, 3, 2]] prediction str:   o you want you\n",
      "5 loss:  1.4514622688293457 prediction:  [[7 3 7 4 3 2 7 8 5 6 0 7 4 3 2]] true Y:  [[9, 1, 7, 4, 3, 2, 7, 8, 5, 6, 0, 7, 4, 3, 2]] prediction str:   o you want you\n",
      "6 loss:  1.3750927448272705 prediction:  [[9 3 7 4 3 2 7 8 5 6 2 7 4 3 2]] true Y:  [[9, 1, 7, 4, 3, 2, 7, 8, 5, 6, 0, 7, 4, 3, 2]] prediction str:  io you wanu you\n",
      "7 loss:  1.297195315361023 prediction:  [[9 4 7 4 3 2 7 8 5 6 2 7 4 3 2]] true Y:  [[9, 1, 7, 4, 3, 2, 7, 8, 5, 6, 0, 7, 4, 3, 2]] prediction str:  iy you wanu you\n",
      "8 loss:  1.235838770866394 prediction:  [[9 1 7 4 3 2 7 8 5 6 2 7 4 3 2]] true Y:  [[9, 1, 7, 4, 3, 2, 7, 8, 5, 6, 0, 7, 4, 3, 2]] prediction str:  if you wanu you\n",
      "9 loss:  1.1745343208312988 prediction:  [[9 1 7 4 3 2 7 8 5 6 2 7 4 3 2]] true Y:  [[9, 1, 7, 4, 3, 2, 7, 8, 5, 6, 0, 7, 4, 3, 2]] prediction str:  if you wanu you\n",
      "10 loss:  1.1257164478302002 prediction:  [[9 2 7 4 3 2 7 8 5 6 2 7 4 3 2]] true Y:  [[9, 1, 7, 4, 3, 2, 7, 8, 5, 6, 0, 7, 4, 3, 2]] prediction str:  iu you wanu you\n",
      "11 loss:  1.0962657928466797 prediction:  [[9 1 7 4 3 2 7 8 5 6 2 7 4 3 2]] true Y:  [[9, 1, 7, 4, 3, 2, 7, 8, 5, 6, 0, 7, 4, 3, 2]] prediction str:  if you wanu you\n",
      "12 loss:  1.0571386814117432 prediction:  [[9 1 7 4 3 2 7 8 5 6 2 7 4 3 2]] true Y:  [[9, 1, 7, 4, 3, 2, 7, 8, 5, 6, 0, 7, 4, 3, 2]] prediction str:  if you wanu you\n",
      "13 loss:  1.021378755569458 prediction:  [[9 1 7 4 3 2 7 8 5 6 0 7 4 3 2]] true Y:  [[9, 1, 7, 4, 3, 2, 7, 8, 5, 6, 0, 7, 4, 3, 2]] prediction str:  if you want you\n",
      "14 loss:  0.9919776320457458 prediction:  [[9 1 7 4 3 2 7 8 5 6 0 7 4 3 2]] true Y:  [[9, 1, 7, 4, 3, 2, 7, 8, 5, 6, 0, 7, 4, 3, 2]] prediction str:  if you want you\n",
      "15 loss:  0.9647344350814819 prediction:  [[9 1 7 4 3 2 7 8 5 6 0 7 4 3 2]] true Y:  [[9, 1, 7, 4, 3, 2, 7, 8, 5, 6, 0, 7, 4, 3, 2]] prediction str:  if you want you\n",
      "16 loss:  0.9429123401641846 prediction:  [[9 1 7 4 3 2 7 8 5 6 0 7 4 3 2]] true Y:  [[9, 1, 7, 4, 3, 2, 7, 8, 5, 6, 0, 7, 4, 3, 2]] prediction str:  if you want you\n",
      "17 loss:  0.9226780533790588 prediction:  [[9 1 7 4 3 2 7 8 5 6 0 7 4 3 2]] true Y:  [[9, 1, 7, 4, 3, 2, 7, 8, 5, 6, 0, 7, 4, 3, 2]] prediction str:  if you want you\n",
      "18 loss:  0.9052054286003113 prediction:  [[9 1 7 4 3 2 7 8 5 6 0 7 4 3 2]] true Y:  [[9, 1, 7, 4, 3, 2, 7, 8, 5, 6, 0, 7, 4, 3, 2]] prediction str:  if you want you\n",
      "19 loss:  0.8913312554359436 prediction:  [[9 1 7 4 3 2 7 8 5 6 0 7 4 3 2]] true Y:  [[9, 1, 7, 4, 3, 2, 7, 8, 5, 6, 0, 7, 4, 3, 2]] prediction str:  if you want you\n",
      "20 loss:  0.8810052275657654 prediction:  [[9 1 7 4 3 2 7 8 5 6 0 7 4 3 2]] true Y:  [[9, 1, 7, 4, 3, 2, 7, 8, 5, 6, 0, 7, 4, 3, 2]] prediction str:  if you want you\n",
      "21 loss:  0.8725500702857971 prediction:  [[9 1 7 4 3 2 7 8 5 6 0 7 4 3 2]] true Y:  [[9, 1, 7, 4, 3, 2, 7, 8, 5, 6, 0, 7, 4, 3, 2]] prediction str:  if you want you\n",
      "22 loss:  0.8650251030921936 prediction:  [[9 1 7 4 3 2 7 8 5 6 0 7 4 3 2]] true Y:  [[9, 1, 7, 4, 3, 2, 7, 8, 5, 6, 0, 7, 4, 3, 2]] prediction str:  if you want you\n",
      "23 loss:  0.8587433099746704 prediction:  [[9 1 7 4 3 2 7 8 5 6 0 7 4 3 2]] true Y:  [[9, 1, 7, 4, 3, 2, 7, 8, 5, 6, 0, 7, 4, 3, 2]] prediction str:  if you want you\n",
      "24 loss:  0.852932333946228 prediction:  [[9 1 7 4 3 2 7 8 5 6 0 7 4 3 2]] true Y:  [[9, 1, 7, 4, 3, 2, 7, 8, 5, 6, 0, 7, 4, 3, 2]] prediction str:  if you want you\n",
      "25 loss:  0.8472779393196106 prediction:  [[9 1 7 4 3 2 7 8 5 6 0 7 4 3 2]] true Y:  [[9, 1, 7, 4, 3, 2, 7, 8, 5, 6, 0, 7, 4, 3, 2]] prediction str:  if you want you\n",
      "26 loss:  0.8419805765151978 prediction:  [[9 1 7 4 3 2 7 8 5 6 0 7 4 3 2]] true Y:  [[9, 1, 7, 4, 3, 2, 7, 8, 5, 6, 0, 7, 4, 3, 2]] prediction str:  if you want you\n",
      "27 loss:  0.8372175693511963 prediction:  [[9 1 7 4 3 2 7 8 5 6 0 7 4 3 2]] true Y:  [[9, 1, 7, 4, 3, 2, 7, 8, 5, 6, 0, 7, 4, 3, 2]] prediction str:  if you want you\n",
      "28 loss:  0.8332483172416687 prediction:  [[9 1 7 4 3 2 7 8 5 6 0 7 4 3 2]] true Y:  [[9, 1, 7, 4, 3, 2, 7, 8, 5, 6, 0, 7, 4, 3, 2]] prediction str:  if you want you\n",
      "29 loss:  0.830775260925293 prediction:  [[9 1 7 4 3 2 7 8 5 6 0 7 4 3 2]] true Y:  [[9, 1, 7, 4, 3, 2, 7, 8, 5, 6, 0, 7, 4, 3, 2]] prediction str:  if you want you\n",
      "30 loss:  0.8284318447113037 prediction:  [[9 1 7 4 3 2 7 8 5 6 0 7 4 3 2]] true Y:  [[9, 1, 7, 4, 3, 2, 7, 8, 5, 6, 0, 7, 4, 3, 2]] prediction str:  if you want you\n",
      "31 loss:  0.8260142207145691 prediction:  [[9 1 7 4 3 2 7 8 5 6 0 7 4 3 2]] true Y:  [[9, 1, 7, 4, 3, 2, 7, 8, 5, 6, 0, 7, 4, 3, 2]] prediction str:  if you want you\n",
      "32 loss:  0.8247811794281006 prediction:  [[9 1 7 4 3 2 7 8 5 6 0 7 4 3 2]] true Y:  [[9, 1, 7, 4, 3, 2, 7, 8, 5, 6, 0, 7, 4, 3, 2]] prediction str:  if you want you\n",
      "33 loss:  0.8235751390457153 prediction:  [[9 1 7 4 3 2 7 8 5 6 0 7 4 3 2]] true Y:  [[9, 1, 7, 4, 3, 2, 7, 8, 5, 6, 0, 7, 4, 3, 2]] prediction str:  if you want you\n",
      "34 loss:  0.822064995765686 prediction:  [[9 1 7 4 3 2 7 8 5 6 0 7 4 3 2]] true Y:  [[9, 1, 7, 4, 3, 2, 7, 8, 5, 6, 0, 7, 4, 3, 2]] prediction str:  if you want you\n",
      "35 loss:  0.8211051225662231 prediction:  [[9 1 7 4 3 2 7 8 5 6 0 7 4 3 2]] true Y:  [[9, 1, 7, 4, 3, 2, 7, 8, 5, 6, 0, 7, 4, 3, 2]] prediction str:  if you want you\n",
      "36 loss:  0.8204167485237122 prediction:  [[9 1 7 4 3 2 7 8 5 6 0 7 4 3 2]] true Y:  [[9, 1, 7, 4, 3, 2, 7, 8, 5, 6, 0, 7, 4, 3, 2]] prediction str:  if you want you\n",
      "37 loss:  0.8192067742347717 prediction:  [[9 1 7 4 3 2 7 8 5 6 0 7 4 3 2]] true Y:  [[9, 1, 7, 4, 3, 2, 7, 8, 5, 6, 0, 7, 4, 3, 2]] prediction str:  if you want you\n",
      "38 loss:  0.8187350034713745 prediction:  [[9 1 7 4 3 2 7 8 5 6 0 7 4 3 2]] true Y:  [[9, 1, 7, 4, 3, 2, 7, 8, 5, 6, 0, 7, 4, 3, 2]] prediction str:  if you want you\n",
      "39 loss:  0.8179813623428345 prediction:  [[9 1 7 4 3 2 7 8 5 6 0 7 4 3 2]] true Y:  [[9, 1, 7, 4, 3, 2, 7, 8, 5, 6, 0, 7, 4, 3, 2]] prediction str:  if you want you\n",
      "40 loss:  0.8171057105064392 prediction:  [[9 1 7 4 3 2 7 8 5 6 0 7 4 3 2]] true Y:  [[9, 1, 7, 4, 3, 2, 7, 8, 5, 6, 0, 7, 4, 3, 2]] prediction str:  if you want you\n",
      "41 loss:  0.8168022036552429 prediction:  [[9 1 7 4 3 2 7 8 5 6 0 7 4 3 2]] true Y:  [[9, 1, 7, 4, 3, 2, 7, 8, 5, 6, 0, 7, 4, 3, 2]] prediction str:  if you want you\n",
      "42 loss:  0.815956711769104 prediction:  [[9 1 7 4 3 2 7 8 5 6 0 7 4 3 2]] true Y:  [[9, 1, 7, 4, 3, 2, 7, 8, 5, 6, 0, 7, 4, 3, 2]] prediction str:  if you want you\n",
      "43 loss:  0.8155425786972046 prediction:  [[9 1 7 4 3 2 7 8 5 6 0 7 4 3 2]] true Y:  [[9, 1, 7, 4, 3, 2, 7, 8, 5, 6, 0, 7, 4, 3, 2]] prediction str:  if you want you\n",
      "44 loss:  0.8151117563247681 prediction:  [[9 1 7 4 3 2 7 8 5 6 0 7 4 3 2]] true Y:  [[9, 1, 7, 4, 3, 2, 7, 8, 5, 6, 0, 7, 4, 3, 2]] prediction str:  if you want you\n",
      "45 loss:  0.8145023584365845 prediction:  [[9 1 7 4 3 2 7 8 5 6 0 7 4 3 2]] true Y:  [[9, 1, 7, 4, 3, 2, 7, 8, 5, 6, 0, 7, 4, 3, 2]] prediction str:  if you want you\n",
      "46 loss:  0.814283013343811 prediction:  [[9 1 7 4 3 2 7 8 5 6 0 7 4 3 2]] true Y:  [[9, 1, 7, 4, 3, 2, 7, 8, 5, 6, 0, 7, 4, 3, 2]] prediction str:  if you want you\n",
      "47 loss:  0.8137930035591125 prediction:  [[9 1 7 4 3 2 7 8 5 6 0 7 4 3 2]] true Y:  [[9, 1, 7, 4, 3, 2, 7, 8, 5, 6, 0, 7, 4, 3, 2]] prediction str:  if you want you\n",
      "48 loss:  0.8135242462158203 prediction:  [[9 1 7 4 3 2 7 8 5 6 0 7 4 3 2]] true Y:  [[9, 1, 7, 4, 3, 2, 7, 8, 5, 6, 0, 7, 4, 3, 2]] prediction str:  if you want you\n",
      "49 loss:  0.8132765293121338 prediction:  [[9 1 7 4 3 2 7 8 5 6 0 7 4 3 2]] true Y:  [[9, 1, 7, 4, 3, 2, 7, 8, 5, 6, 0, 7, 4, 3, 2]] prediction str:  if you want you\n"
     ]
    }
   ],
   "source": [
    "for i in range(50):\n",
    "    optimizer.zero_grad()\n",
    "    outputs, _status = rnn(X)\n",
    "    loss = criterion(outputs.view(-1, dic_size), Y.view(-1))\n",
    "    loss.backward()\n",
    "    optimizer.step()\n",
    "\n",
    "    result = outputs.data.numpy().argmax(axis=2)\n",
    "    result_str = ''.join([char_set[c] for c in np.squeeze(result)])\n",
    "    print(i, \"loss: \", loss.item(), \"prediction: \", result, \"true Y: \", y_data, \"prediction str: \", result_str)"
   ]
  },
  {
   "cell_type": "code",
   "execution_count": null,
   "metadata": {},
   "outputs": [],
   "source": []
  }
 ],
 "metadata": {
  "kernelspec": {
   "display_name": "Python 3",
   "language": "python",
   "name": "python3"
  },
  "language_info": {
   "codemirror_mode": {
    "name": "ipython",
    "version": 3
   },
   "file_extension": ".py",
   "mimetype": "text/x-python",
   "name": "python",
   "nbconvert_exporter": "python",
   "pygments_lexer": "ipython3",
   "version": "3.7.3"
  }
 },
 "nbformat": 4,
 "nbformat_minor": 4
}
