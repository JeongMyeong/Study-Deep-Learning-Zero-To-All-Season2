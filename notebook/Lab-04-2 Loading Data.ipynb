{
 "cells": [
  {
   "cell_type": "markdown",
   "metadata": {},
   "source": [
    "# 너무 데이터가 크면 x_data, y_data 를 전부 다 가져오지 말고, 필요한 배치만 가져올 수 밖에 없다."
   ]
  },
  {
   "cell_type": "code",
   "execution_count": 1,
   "metadata": {},
   "outputs": [],
   "source": [
    "import torch\n",
    "from torch.utils.data import Dataset\n",
    "\n",
    "class CustomDataset(Dataset):\n",
    "    def __init__(self):\n",
    "        self.x_data = [[73, 80, 75], \n",
    "                       [93, 88, 93],\n",
    "                       [89, 91, 90],\n",
    "                       [96, 98, 100],\n",
    "                       [73, 66, 70]]\n",
    "        \n",
    "        self.y_data = [[152], [185], [180], [196], [142]]\n",
    "        \n",
    "    def __len__(self):\n",
    "        return len(self.x_data)\n",
    "    \n",
    "    def __getitem__(self, idx):\n",
    "        x = torch.FloatTensor(self.x_data[idx])\n",
    "        y = torch.FloatTensor(self.y_data[idx])\n",
    "        \n",
    "        return x, y\n",
    "    \n",
    "dataset = CustomDataset()"
   ]
  },
  {
   "cell_type": "code",
   "execution_count": 2,
   "metadata": {},
   "outputs": [],
   "source": [
    "import torch.nn as nn\n",
    "class MultivariateLinearRegressionModel(nn.Module):\n",
    "    def __init__(self):\n",
    "        super().__init__()\n",
    "        self.linear = nn.Linear(3, 1)\n",
    "        \n",
    "    def forward(self, x):\n",
    "        return self.linear(x)\n",
    "model = MultivariateLinearRegressionModel()"
   ]
  },
  {
   "cell_type": "code",
   "execution_count": 3,
   "metadata": {},
   "outputs": [],
   "source": [
    "from torch.utils.data import DataLoader\n",
    "\n",
    "dataloader = DataLoader(dataset, batch_size=2, shuffle=True)"
   ]
  },
  {
   "cell_type": "code",
   "execution_count": 4,
   "metadata": {},
   "outputs": [
    {
     "name": "stdout",
     "output_type": "stream",
     "text": [
      "Epoch 0/20 Batch 1/3 Cost: 42622.816406\n",
      "Epoch 0/20 Batch 2/3 Cost: 22416.921875\n",
      "Epoch 0/20 Batch 3/3 Cost: 3309.051270\n",
      "Epoch 1/20 Batch 1/3 Cost: 1954.877075\n",
      "Epoch 1/20 Batch 2/3 Cost: 269.864868\n",
      "Epoch 1/20 Batch 3/3 Cost: 156.570221\n",
      "Epoch 2/20 Batch 1/3 Cost: 46.234547\n",
      "Epoch 2/20 Batch 2/3 Cost: 14.967397\n",
      "Epoch 2/20 Batch 3/3 Cost: 12.692493\n",
      "Epoch 3/20 Batch 1/3 Cost: 1.064026\n",
      "Epoch 3/20 Batch 2/3 Cost: 1.388823\n",
      "Epoch 3/20 Batch 3/3 Cost: 5.699194\n",
      "Epoch 4/20 Batch 1/3 Cost: 1.553653\n",
      "Epoch 4/20 Batch 2/3 Cost: 1.085103\n",
      "Epoch 4/20 Batch 3/3 Cost: 4.788161\n",
      "Epoch 5/20 Batch 1/3 Cost: 0.824819\n",
      "Epoch 5/20 Batch 2/3 Cost: 1.936714\n",
      "Epoch 5/20 Batch 3/3 Cost: 6.579159\n",
      "Epoch 6/20 Batch 1/3 Cost: 0.753694\n",
      "Epoch 6/20 Batch 2/3 Cost: 1.852884\n",
      "Epoch 6/20 Batch 3/3 Cost: 5.310037\n",
      "Epoch 7/20 Batch 1/3 Cost: 3.455196\n",
      "Epoch 7/20 Batch 2/3 Cost: 2.718482\n",
      "Epoch 7/20 Batch 3/3 Cost: 0.332132\n",
      "Epoch 8/20 Batch 1/3 Cost: 0.783826\n",
      "Epoch 8/20 Batch 2/3 Cost: 2.464272\n",
      "Epoch 8/20 Batch 3/3 Cost: 4.463701\n",
      "Epoch 9/20 Batch 1/3 Cost: 4.273901\n",
      "Epoch 9/20 Batch 2/3 Cost: 0.093640\n",
      "Epoch 9/20 Batch 3/3 Cost: 1.348407\n",
      "Epoch 10/20 Batch 1/3 Cost: 2.204456\n",
      "Epoch 10/20 Batch 2/3 Cost: 2.470596\n",
      "Epoch 10/20 Batch 3/3 Cost: 0.073282\n",
      "Epoch 11/20 Batch 1/3 Cost: 0.217960\n",
      "Epoch 11/20 Batch 2/3 Cost: 4.058798\n",
      "Epoch 11/20 Batch 3/3 Cost: 0.766480\n",
      "Epoch 12/20 Batch 1/3 Cost: 1.636162\n",
      "Epoch 12/20 Batch 2/3 Cost: 3.712487\n",
      "Epoch 12/20 Batch 3/3 Cost: 0.649193\n",
      "Epoch 13/20 Batch 1/3 Cost: 2.786404\n",
      "Epoch 13/20 Batch 2/3 Cost: 2.128573\n",
      "Epoch 13/20 Batch 3/3 Cost: 0.008644\n",
      "Epoch 14/20 Batch 1/3 Cost: 1.714352\n",
      "Epoch 14/20 Batch 2/3 Cost: 4.408111\n",
      "Epoch 14/20 Batch 3/3 Cost: 0.244024\n",
      "Epoch 15/20 Batch 1/3 Cost: 2.104764\n",
      "Epoch 15/20 Batch 2/3 Cost: 2.368359\n",
      "Epoch 15/20 Batch 3/3 Cost: 1.022896\n",
      "Epoch 16/20 Batch 1/3 Cost: 1.502942\n",
      "Epoch 16/20 Batch 2/3 Cost: 0.901345\n",
      "Epoch 16/20 Batch 3/3 Cost: 5.058175\n",
      "Epoch 17/20 Batch 1/3 Cost: 1.078162\n",
      "Epoch 17/20 Batch 2/3 Cost: 2.220690\n",
      "Epoch 17/20 Batch 3/3 Cost: 4.435376\n",
      "Epoch 18/20 Batch 1/3 Cost: 1.130452\n",
      "Epoch 18/20 Batch 2/3 Cost: 5.217617\n",
      "Epoch 18/20 Batch 3/3 Cost: 0.145508\n",
      "Epoch 19/20 Batch 1/3 Cost: 2.384794\n",
      "Epoch 19/20 Batch 2/3 Cost: 2.265429\n",
      "Epoch 19/20 Batch 3/3 Cost: 0.036671\n",
      "Epoch 20/20 Batch 1/3 Cost: 2.701132\n",
      "Epoch 20/20 Batch 2/3 Cost: 2.985566\n",
      "Epoch 20/20 Batch 3/3 Cost: 0.411359\n"
     ]
    }
   ],
   "source": [
    "import torch.nn.functional as F\n",
    "\n",
    "optimizer = torch.optim.SGD(model.parameters(), lr=1e-5)\n",
    "epochs = 20\n",
    "for epoch in range(epochs+1):\n",
    "    for batch_idx, samples in enumerate(dataloader):\n",
    "        X_train, y_train = samples\n",
    "        \n",
    "        # H(x) 계산\n",
    "        prediction = model(X_train)\n",
    "        \n",
    "        # cost 계산\n",
    "        cost = F.mse_loss(prediction, y_train)\n",
    "        \n",
    "        # cost로 H(x) 개선\n",
    "        optimizer.zero_grad()\n",
    "        cost.backward()\n",
    "        optimizer.step()\n",
    "        \n",
    "        print('Epoch {}/{} Batch {}/{} Cost: {:.6f}'.format(epoch, epochs, batch_idx+1, len(dataloader), cost.item()))"
   ]
  }
 ],
 "metadata": {
  "kernelspec": {
   "display_name": "Python 3",
   "language": "python",
   "name": "python3"
  },
  "language_info": {
   "codemirror_mode": {
    "name": "ipython",
    "version": 3
   },
   "file_extension": ".py",
   "mimetype": "text/x-python",
   "name": "python",
   "nbconvert_exporter": "python",
   "pygments_lexer": "ipython3",
   "version": "3.7.3"
  }
 },
 "nbformat": 4,
 "nbformat_minor": 4
}
