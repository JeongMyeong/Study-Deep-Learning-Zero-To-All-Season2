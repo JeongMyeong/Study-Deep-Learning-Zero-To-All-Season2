{
 "cells": [
  {
   "cell_type": "code",
   "execution_count": 1,
   "metadata": {},
   "outputs": [],
   "source": [
    "import torch\n",
    "\n",
    "device = 'cuda'\n",
    "\n",
    "torch.manual_seed(42)\n",
    "torch.cuda.manual_seed_all(42)"
   ]
  },
  {
   "cell_type": "markdown",
   "metadata": {},
   "source": [
    "# Backpropagation"
   ]
  },
  {
   "cell_type": "code",
   "execution_count": 2,
   "metadata": {},
   "outputs": [],
   "source": [
    "\n",
    "X = torch.FloatTensor([[0, 0],\n",
    "                       [0, 1],\n",
    "                       [1, 0],\n",
    "                       [1, 1]\n",
    "                      ]).to(device)\n",
    "y = torch.FloatTensor([[0], [1], [1], [0]]).to(device)"
   ]
  },
  {
   "cell_type": "code",
   "execution_count": 3,
   "metadata": {},
   "outputs": [],
   "source": [
    "# nn Layers\n",
    "linear1 = torch.nn.Linear(2, 2, bias = True)\n",
    "linear2 = torch.nn.Linear(2, 1, bias = True)\n",
    "sigmoid = torch.nn.Sigmoid()"
   ]
  },
  {
   "cell_type": "code",
   "execution_count": 4,
   "metadata": {},
   "outputs": [],
   "source": [
    "# model\n",
    "model = torch.nn.Sequential(linear1, sigmoid, linear2, sigmoid).to(device)"
   ]
  },
  {
   "cell_type": "code",
   "execution_count": 5,
   "metadata": {},
   "outputs": [],
   "source": [
    "# define cost/loss/optimizer\n",
    "criterion = torch.nn.BCELoss().to(device)\n",
    "optimizer = torch.optim.SGD(model.parameters(), lr=1)"
   ]
  },
  {
   "cell_type": "code",
   "execution_count": 6,
   "metadata": {},
   "outputs": [
    {
     "name": "stdout",
     "output_type": "stream",
     "text": [
      "step :     0/10001 cost : 0.7482295632362366\n",
      "step :   500/10001 cost : 0.6930890679359436\n",
      "step :  1000/10001 cost : 0.6916580200195312\n",
      "step :  1500/10001 cost : 0.057307735085487366\n",
      "step :  2000/10001 cost : 0.015252037905156612\n",
      "step :  2500/10001 cost : 0.008576473221182823\n",
      "step :  3000/10001 cost : 0.005931236781179905\n",
      "step :  3500/10001 cost : 0.00452245632186532\n",
      "step :  4000/10001 cost : 0.003649957710877061\n",
      "step :  4500/10001 cost : 0.003057489637285471\n",
      "step :  5000/10001 cost : 0.0026292100083082914\n",
      "step :  5500/10001 cost : 0.002305486472323537\n",
      "step :  6000/10001 cost : 0.0020522139966487885\n",
      "step :  6500/10001 cost : 0.0018487650668248534\n",
      "step :  7000/10001 cost : 0.0016817939467728138\n",
      "step :  7500/10001 cost : 0.0015423125587403774\n",
      "step :  8000/10001 cost : 0.0014240562450140715\n",
      "step :  8500/10001 cost : 0.0013225110014900565\n",
      "step :  9000/10001 cost : 0.0012344340793788433\n",
      "step :  9500/10001 cost : 0.0011573154479265213\n",
      "step : 10000/10001 cost : 0.0010892132995650172\n"
     ]
    }
   ],
   "source": [
    "for step in range(10001):\n",
    "    \n",
    "    hypothesis = model(X)\n",
    "    cost = criterion(hypothesis, y)\n",
    "    \n",
    "    optimizer.zero_grad()\n",
    "    cost.backward()\n",
    "    optimizer.step()\n",
    "    \n",
    "    if step % 500 ==0:\n",
    "        print('step : {:5d}/{} cost : {}'.format(step,10001, cost.item()))"
   ]
  },
  {
   "cell_type": "code",
   "execution_count": 7,
   "metadata": {},
   "outputs": [
    {
     "name": "stdout",
     "output_type": "stream",
     "text": [
      "Hypothesis : \n",
      "[[0.00139763]\n",
      " [0.9990232 ]\n",
      " [0.9990232 ]\n",
      " [0.0010028 ]]\n",
      "Correct : \n",
      "[[0.]\n",
      " [1.]\n",
      " [1.]\n",
      " [0.]] \n",
      "Accuracy : 1.0\n"
     ]
    }
   ],
   "source": [
    "with torch.no_grad():\n",
    "    hypothesis = model(X)\n",
    "    predicted = (hypothesis > 0.5).float()\n",
    "    acc = (predicted==y).float().mean()\n",
    "    print('Hypothesis : \\n{}\\nCorrect : \\n{} \\nAccuracy : {}'.format(hypothesis.detach().cpu().numpy(), predicted.detach().cpu().numpy(), acc.item()))"
   ]
  }
 ],
 "metadata": {
  "kernelspec": {
   "display_name": "Python 3",
   "language": "python",
   "name": "python3"
  },
  "language_info": {
   "codemirror_mode": {
    "name": "ipython",
    "version": 3
   },
   "file_extension": ".py",
   "mimetype": "text/x-python",
   "name": "python",
   "nbconvert_exporter": "python",
   "pygments_lexer": "ipython3",
   "version": "3.7.3"
  }
 },
 "nbformat": 4,
 "nbformat_minor": 4
}
