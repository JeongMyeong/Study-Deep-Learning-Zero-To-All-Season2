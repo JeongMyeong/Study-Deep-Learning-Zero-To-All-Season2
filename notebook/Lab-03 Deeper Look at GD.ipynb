{
 "cells": [
  {
   "cell_type": "code",
   "execution_count": 17,
   "metadata": {},
   "outputs": [],
   "source": [
    "import torch\n",
    "\n",
    "# 데이터 선언\n",
    "X_train = torch.FloatTensor([[1], [2], [3]])\n",
    "y_train = torch.FloatTensor([[1], [2], [3]])"
   ]
  },
  {
   "cell_type": "code",
   "execution_count": 6,
   "metadata": {},
   "outputs": [
    {
     "name": "stdout",
     "output_type": "stream",
     "text": [
      "Epoch 0/10 W: 0.000, Cost : 4.666667\n",
      "Epoch 1/10 W: 1.400, Cost : 0.746666\n",
      "Epoch 2/10 W: 0.840, Cost : 0.119467\n",
      "Epoch 3/10 W: 1.064, Cost : 0.019115\n",
      "Epoch 4/10 W: 0.974, Cost : 0.003058\n",
      "Epoch 5/10 W: 1.010, Cost : 0.000489\n",
      "Epoch 6/10 W: 0.996, Cost : 0.000078\n",
      "Epoch 7/10 W: 1.002, Cost : 0.000013\n",
      "Epoch 8/10 W: 0.999, Cost : 0.000002\n",
      "Epoch 9/10 W: 1.000, Cost : 0.000000\n",
      "Epoch 10/10 W: 1.000, Cost : 0.000000\n"
     ]
    }
   ],
   "source": [
    "# 모델 초기화\n",
    "W = torch.zeros(1)\n",
    "learning_rate = 0.1\n",
    "epochs = 10\n",
    "\n",
    "\n",
    "for epoch in range(epochs+1):\n",
    "    # H(x) 계산\n",
    "    hypothesis = X_train * W\n",
    "    \n",
    "    # Cost gradient 계산\n",
    "    cost = torch.mean((hypothesis - y_train)**2)\n",
    "    gradient = torch.sum((W * X_train - y_train) * X_train)\n",
    "    \n",
    "    print(\"Epoch {}/{} W: {:.3f}, Cost : {:.6f}\".format(epoch, epochs, W.item(), cost.item()))\n",
    "    \n",
    "    # cost gradient로 H(x) 개선\n",
    "    W -= learning_rate * gradient"
   ]
  },
  {
   "cell_type": "markdown",
   "metadata": {},
   "source": [
    "# torch에서 제공해주는 optimizer로 쉽게 구현"
   ]
  },
  {
   "cell_type": "code",
   "execution_count": 20,
   "metadata": {},
   "outputs": [
    {
     "name": "stdout",
     "output_type": "stream",
     "text": [
      "Epoch 0/10 W: 0.000, Cost : 4.666667\n",
      "Epoch 1/10 W: 1.400, Cost : 0.746667\n",
      "Epoch 2/10 W: 0.840, Cost : 0.119467\n",
      "Epoch 3/10 W: 1.064, Cost : 0.019115\n",
      "Epoch 4/10 W: 0.974, Cost : 0.003058\n",
      "Epoch 5/10 W: 1.010, Cost : 0.000489\n",
      "Epoch 6/10 W: 0.996, Cost : 0.000078\n",
      "Epoch 7/10 W: 1.002, Cost : 0.000013\n",
      "Epoch 8/10 W: 0.999, Cost : 0.000002\n",
      "Epoch 9/10 W: 1.000, Cost : 0.000000\n",
      "Epoch 10/10 W: 1.000, Cost : 0.000000\n"
     ]
    }
   ],
   "source": [
    "# optimizer 설정\n",
    "W = torch.zeros(1, requires_grad=True)\n",
    "optimizer = torch.optim.SGD([W], lr=0.15)\n",
    "epochs = 10\n",
    "\n",
    "\n",
    "for epoch in range(epochs+1):\n",
    "    # H(x) 계산\n",
    "    hypothesis = X_train * W\n",
    "    \n",
    "    # cost 계산\n",
    "    cost = torch.mean((hypothesis - y_train) ** 2)\n",
    "   \n",
    "    print(\"Epoch {}/{} W: {:.3f}, Cost : {:.6f}\".format(epoch, epochs, W.item(), cost.item()))\n",
    "    \n",
    "    # cost로 H(x) 개선\n",
    "    optimizer.zero_grad()    # optimizer에 저장된 모든 학습가능한 변수들의 gradient를 전부 0으로 초기화\n",
    "    cost.backward()          # cost function을 미분해서 각 변수들의 gradient를 채움\n",
    "    optimizer.step()        # 저장된 gradient 값으로 gradient descent를 수행"
   ]
  },
  {
   "cell_type": "markdown",
   "metadata": {},
   "source": [
    "- 학습하면서 점점 W가 1에 수렴하고 cost는 줄어든다."
   ]
  }
 ],
 "metadata": {
  "kernelspec": {
   "display_name": "Python 3",
   "language": "python",
   "name": "python3"
  },
  "language_info": {
   "codemirror_mode": {
    "name": "ipython",
    "version": 3
   },
   "file_extension": ".py",
   "mimetype": "text/x-python",
   "name": "python",
   "nbconvert_exporter": "python",
   "pygments_lexer": "ipython3",
   "version": "3.7.3"
  }
 },
 "nbformat": 4,
 "nbformat_minor": 4
}
