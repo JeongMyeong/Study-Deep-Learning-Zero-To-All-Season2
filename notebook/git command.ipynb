{
 "cells": [
  {
   "cell_type": "code",
   "execution_count": 3,
   "metadata": {},
   "outputs": [
    {
     "name": "stdout",
     "output_type": "stream",
     "text": [
      "Already up to date.\n"
     ]
    }
   ],
   "source": [
    "!git pull"
   ]
  },
  {
   "cell_type": "code",
   "execution_count": 4,
   "metadata": {},
   "outputs": [
    {
     "name": "stderr",
     "output_type": "stream",
     "text": [
      "warning: LF will be replaced by CRLF in notebook/Lab-11-5 RNN seq2seq.ipynb.\n",
      "The file will have its original line endings in your working directory\n",
      "warning: LF will be replaced by CRLF in notebook/git command.ipynb.\n",
      "The file will have its original line endings in your working directory\n",
      "warning: LF will be replaced by CRLF in notebook/.ipynb_checkpoints/Lab-11-6 PackedSequence-checkpoint.ipynb.\n",
      "The file will have its original line endings in your working directory\n",
      "warning: LF will be replaced by CRLF in notebook/Lab-11-6 PackedSequence.ipynb.\n",
      "The file will have its original line endings in your working directory\n"
     ]
    },
    {
     "name": "stdout",
     "output_type": "stream",
     "text": [
      "[master 76139e4] [Upload lab11-6]\n",
      " 4 files changed, 745 insertions(+), 33 deletions(-)\n",
      " create mode 100644 notebook/.ipynb_checkpoints/Lab-11-6 PackedSequence-checkpoint.ipynb\n",
      " create mode 100644 notebook/Lab-11-6 PackedSequence.ipynb\n"
     ]
    },
    {
     "name": "stderr",
     "output_type": "stream",
     "text": [
      "To https://github.com/JeongMyeong/Study-Deep-Learning-Zero-To-All-Season2.git\n",
      "   668d6f3..76139e4  master -> master\n"
     ]
    }
   ],
   "source": [
    "!git add .\n",
    "!git commit -m \"[Upload lab11-6]\"\n",
    "!git push"
   ]
  },
  {
   "cell_type": "code",
   "execution_count": null,
   "metadata": {},
   "outputs": [],
   "source": []
  }
 ],
 "metadata": {
  "kernelspec": {
   "display_name": "Python 3",
   "language": "python",
   "name": "python3"
  },
  "language_info": {
   "codemirror_mode": {
    "name": "ipython",
    "version": 3
   },
   "file_extension": ".py",
   "mimetype": "text/x-python",
   "name": "python",
   "nbconvert_exporter": "python",
   "pygments_lexer": "ipython3",
   "version": "3.7.3"
  }
 },
 "nbformat": 4,
 "nbformat_minor": 4
}
