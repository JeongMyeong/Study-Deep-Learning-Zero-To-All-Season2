{
 "cells": [
  {
   "cell_type": "code",
   "execution_count": 1,
   "metadata": {},
   "outputs": [
    {
     "name": "stderr",
     "output_type": "stream",
     "text": [
      "warning: LF will be replaced by CRLF in notebook/.ipynb_checkpoints/Lab-03 Deeper Look at GD-checkpoint.ipynb.\n",
      "The file will have its original line endings in your working directory\n",
      "warning: LF will be replaced by CRLF in notebook/.ipynb_checkpoints/git command-checkpoint.ipynb.\n",
      "The file will have its original line endings in your working directory\n",
      "warning: LF will be replaced by CRLF in notebook/Lab-03 Deeper Look at GD.ipynb.\n",
      "The file will have its original line endings in your working directory\n",
      "warning: LF will be replaced by CRLF in notebook/git command.ipynb.\n",
      "The file will have its original line endings in your working directory\n"
     ]
    },
    {
     "name": "stdout",
     "output_type": "stream",
     "text": [
      "[master ee16c6b] [Update lab02]\n",
      " 6 files changed, 418 insertions(+), 12 deletions(-)\n",
      " create mode 100644 notebook/.ipynb_checkpoints/Lab-03 Deeper Look at GD-checkpoint.ipynb\n",
      " delete mode 100644 notebook/.ipynb_checkpoints/Untitled-checkpoint.ipynb\n",
      " create mode 100644 notebook/.ipynb_checkpoints/git command-checkpoint.ipynb\n",
      " create mode 100644 notebook/Lab-03 Deeper Look at GD.ipynb\n",
      " delete mode 100644 notebook/Untitled.ipynb\n",
      " create mode 100644 notebook/git command.ipynb\n"
     ]
    },
    {
     "name": "stderr",
     "output_type": "stream",
     "text": [
      "To https://github.com/JeongMyeong/Study-Deep-Learning-Zero-To-All-Season2.git\n",
      "   769a2bc..ee16c6b  master -> master\n"
     ]
    }
   ],
   "source": [
    "!git add .\n",
    "!git commit -m \"[Update lab02]\"\n",
    "!git push"
   ]
  }
 ],
 "metadata": {
  "kernelspec": {
   "display_name": "Python 3",
   "language": "python",
   "name": "python3"
  },
  "language_info": {
   "codemirror_mode": {
    "name": "ipython",
    "version": 3
   },
   "file_extension": ".py",
   "mimetype": "text/x-python",
   "name": "python",
   "nbconvert_exporter": "python",
   "pygments_lexer": "ipython3",
   "version": "3.7.3"
  }
 },
 "nbformat": 4,
 "nbformat_minor": 4
}
