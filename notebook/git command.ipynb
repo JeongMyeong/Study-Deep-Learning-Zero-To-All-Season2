{
 "cells": [
  {
   "cell_type": "code",
   "execution_count": 3,
   "metadata": {},
   "outputs": [
    {
     "name": "stdout",
     "output_type": "stream",
     "text": [
      "Updating 20cbcd9..fad7f99\n",
      "Fast-forward\n",
      " README.md | 4 ++--\n",
      " 1 file changed, 2 insertions(+), 2 deletions(-)\n"
     ]
    },
    {
     "name": "stderr",
     "output_type": "stream",
     "text": [
      "From https://github.com/JeongMyeong/Study-Deep-Learning-Zero-To-All-Season2\n",
      "   20cbcd9..fad7f99  master     -> origin/master\n"
     ]
    }
   ],
   "source": [
    "!git pull"
   ]
  },
  {
   "cell_type": "code",
   "execution_count": 2,
   "metadata": {},
   "outputs": [
    {
     "name": "stderr",
     "output_type": "stream",
     "text": [
      "warning: LF will be replaced by CRLF in notebook/Lab-08-1 Perceptron.ipynb.\n",
      "The file will have its original line endings in your working directory\n",
      "warning: LF will be replaced by CRLF in notebook/git command.ipynb.\n",
      "The file will have its original line endings in your working directory\n",
      "warning: LF will be replaced by CRLF in notebook/.ipynb_checkpoints/Lab-08-2 Multi Layer Perceptron-checkpoint.ipynb.\n",
      "The file will have its original line endings in your working directory\n",
      "warning: LF will be replaced by CRLF in notebook/Lab-08-2 Multi Layer Perceptron.ipynb.\n",
      "The file will have its original line endings in your working directory\n"
     ]
    },
    {
     "name": "stdout",
     "output_type": "stream",
     "text": [
      "[master 20cbcd9] [Upload lab08-2]\n",
      " 4 files changed, 158 insertions(+), 23 deletions(-)\n",
      " create mode 100644 notebook/.ipynb_checkpoints/Lab-08-2 Multi Layer Perceptron-checkpoint.ipynb\n",
      " create mode 100644 notebook/Lab-08-2 Multi Layer Perceptron.ipynb\n"
     ]
    },
    {
     "name": "stderr",
     "output_type": "stream",
     "text": [
      "To https://github.com/JeongMyeong/Study-Deep-Learning-Zero-To-All-Season2.git\n",
      "   f9f4f8d..20cbcd9  master -> master\n"
     ]
    }
   ],
   "source": [
    "!git add .\n",
    "!git commit -m \"[Upload lab08-2]\"\n",
    "!git push"
   ]
  }
 ],
 "metadata": {
  "kernelspec": {
   "display_name": "Python 3",
   "language": "python",
   "name": "python3"
  },
  "language_info": {
   "codemirror_mode": {
    "name": "ipython",
    "version": 3
   },
   "file_extension": ".py",
   "mimetype": "text/x-python",
   "name": "python",
   "nbconvert_exporter": "python",
   "pygments_lexer": "ipython3",
   "version": "3.7.3"
  }
 },
 "nbformat": 4,
 "nbformat_minor": 4
}
