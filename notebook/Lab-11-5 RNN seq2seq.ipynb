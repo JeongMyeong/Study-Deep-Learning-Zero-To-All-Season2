{
 "cells": [
  {
   "cell_type": "code",
   "execution_count": 187,
   "metadata": {},
   "outputs": [
    {
     "data": {
      "text/plain": [
       "170651"
      ]
     },
     "execution_count": 187,
     "metadata": {},
     "output_type": "execute_result"
    }
   ],
   "source": [
    "import random\n",
    "import torch\n",
    "import torch.nn as nn\n",
    "from torch import optim\n",
    "\n",
    "\n",
    "import pandas as pd\n",
    "import warnings\n",
    "warnings.filterwarnings('ignore')\n",
    "lines = pd.read_csv('C:/Users/JeongMyeong/Desktop/2020/연구실/잡다한것/dataset/fra.txt', names=['src', 'tar','drop'], sep='\\t')\n",
    "lines.drop(['drop'], inplace=True, axis=1)\n",
    "len(lines)\n"
   ]
  },
  {
   "cell_type": "code",
   "execution_count": 188,
   "metadata": {},
   "outputs": [],
   "source": [
    "lines = lines.iloc[[10000,20000,30000,40000,50000],:]"
   ]
  },
  {
   "cell_type": "code",
   "execution_count": 189,
   "metadata": {},
   "outputs": [
    {
     "data": {
      "text/html": [
       "<div>\n",
       "<style scoped>\n",
       "    .dataframe tbody tr th:only-of-type {\n",
       "        vertical-align: middle;\n",
       "    }\n",
       "\n",
       "    .dataframe tbody tr th {\n",
       "        vertical-align: top;\n",
       "    }\n",
       "\n",
       "    .dataframe thead th {\n",
       "        text-align: right;\n",
       "    }\n",
       "</style>\n",
       "<table border=\"1\" class=\"dataframe\">\n",
       "  <thead>\n",
       "    <tr style=\"text-align: right;\">\n",
       "      <th></th>\n",
       "      <th>src</th>\n",
       "      <th>tar</th>\n",
       "    </tr>\n",
       "  </thead>\n",
       "  <tbody>\n",
       "    <tr>\n",
       "      <th>10000</th>\n",
       "      <td>Do you have one?</td>\n",
       "      <td>En as-tu un ?</td>\n",
       "    </tr>\n",
       "    <tr>\n",
       "      <th>20000</th>\n",
       "      <td>Please forgive me.</td>\n",
       "      <td>Veuillez me pardonner.</td>\n",
       "    </tr>\n",
       "    <tr>\n",
       "      <th>30000</th>\n",
       "      <td>Make another choice.</td>\n",
       "      <td>Fais un autre choix.</td>\n",
       "    </tr>\n",
       "    <tr>\n",
       "      <th>40000</th>\n",
       "      <td>I agree with everyone.</td>\n",
       "      <td>Je suis d'accord avec tout le monde.</td>\n",
       "    </tr>\n",
       "    <tr>\n",
       "      <th>50000</th>\n",
       "      <td>We could use your help.</td>\n",
       "      <td>Nous pourrions utiliser ton aide.</td>\n",
       "    </tr>\n",
       "  </tbody>\n",
       "</table>\n",
       "</div>"
      ],
      "text/plain": [
       "                           src                                   tar\n",
       "10000         Do you have one?                         En as-tu un ?\n",
       "20000       Please forgive me.                Veuillez me pardonner.\n",
       "30000     Make another choice.                  Fais un autre choix.\n",
       "40000   I agree with everyone.  Je suis d'accord avec tout le monde.\n",
       "50000  We could use your help.     Nous pourrions utiliser ton aide."
      ]
     },
     "execution_count": 189,
     "metadata": {},
     "output_type": "execute_result"
    }
   ],
   "source": [
    "lines"
   ]
  },
  {
   "cell_type": "code",
   "execution_count": 190,
   "metadata": {},
   "outputs": [],
   "source": [
    "raw = [str(a)+\"\\t\" + str(b) for a,b in zip(lines['src'], lines['tar'])]"
   ]
  },
  {
   "cell_type": "code",
   "execution_count": 191,
   "metadata": {},
   "outputs": [
    {
     "data": {
      "text/plain": [
       "['Do you have one?\\tEn as-tu un\\u202f?',\n",
       " 'Please forgive me.\\tVeuillez me pardonner.',\n",
       " 'Make another choice.\\tFais un autre choix.',\n",
       " \"I agree with everyone.\\tJe suis d'accord avec tout le monde.\",\n",
       " 'We could use your help.\\tNous pourrions utiliser ton aide.']"
      ]
     },
     "execution_count": 191,
     "metadata": {},
     "output_type": "execute_result"
    }
   ],
   "source": [
    "raw"
   ]
  },
  {
   "cell_type": "code",
   "execution_count": 174,
   "metadata": {},
   "outputs": [],
   "source": [
    "torch.manual_seed(42)\n",
    "device = torch.device('cuda' if torch.cuda.is_available() else 'cpu')"
   ]
  },
  {
   "cell_type": "code",
   "execution_count": 249,
   "metadata": {},
   "outputs": [],
   "source": [
    "raw = [\"I feel hungry.\t나는 배가 고프다.\",\n",
    "       \"Pytorch is very easy.\t파이토치는 매우 쉽다.\",\n",
    "       \"Pytorch is a framework for deep learning.\t파이토치는 딥러닝을 위한 프레임워크이다.\",\n",
    "       \"Pytorch is very clear to use.\t파이토치는 사용하기 매우 직관적이다.\"]"
   ]
  },
  {
   "cell_type": "code",
   "execution_count": 250,
   "metadata": {},
   "outputs": [],
   "source": [
    "SOS_token = 0\n",
    "EOS_token = 1"
   ]
  },
  {
   "cell_type": "code",
   "execution_count": 251,
   "metadata": {},
   "outputs": [],
   "source": [
    "class Vocab:\n",
    "    def __init__(self):\n",
    "        self.vocab2index = {\"<SOS>\": SOS_token, \"<EOS>\": EOS_token}       # dictionary\n",
    "        self.index2vocab = {SOS_token : \"<SOS>\", EOS_token: \"<EOS>\"}      # dictionary\n",
    "        self.vocab_count = {}                                             # dictionary 단어 count\n",
    "        self.n_vocab = len(self.vocab2index)                              # vocab의 index값 (temp)\n",
    "        \n",
    "    def add_vocab(self, sentence):\n",
    "        for word in sentence.split(\" \"):\n",
    "            if word not in self.vocab2index:                              # 만약 vocab2index dictionary에 단어가 없으면\n",
    "                self.vocab2index[word] = self.n_vocab                     # vocab2index dictionary에 추가하면서 index를 표기해준다.\n",
    "                self.vocab_count[word] = 1                                # 추가한 단어의 갯수 여기서는 처음 들어가는 거라 1로 고정\n",
    "                self.index2vocab[self.n_vocab] = word                     # vocab2index에서 index 값에 맞게 word를 넣어준다.\n",
    "                self.n_vocab += 1                                         # 인덱스 1올려준다.\n",
    "            else:\n",
    "                self.vocab_count[word] += 1                               # 만약 있는 단어면 근야 count만 올려준다.\n",
    "\n",
    "def filter_pair(pair, source_max_length, target_max_length):              # pair에는 데이터 한줄씩 들어간다. [영어, 한글] pair[0]는 영어 pair[1]은 한글\n",
    "    return len(pair[0].split(\" \")) < source_max_length and len(pair[1].split(\" \")) < target_max_length\n",
    "\n",
    "def preprocess(corpus, source_max_length, target_max_length):\n",
    "    print('reading corpus...') \n",
    "    pairs = []\n",
    "    for line in corpus:\n",
    "        pairs.append([s for s in line.strip().lower().split('\\t')])\n",
    "    print('Read {} sentence pairs', format(len(pairs)))\n",
    "    print(pairs)\n",
    "    pairs = [pair for pair in pairs if filter_pair(pair, source_max_length, target_max_length)]\n",
    "    print('Trimmed to {} sentence pairs'.format(len(pairs)))\n",
    "    \n",
    "    source_vocab = Vocab()\n",
    "    target_vocab = Vocab()\n",
    "    \n",
    "    print('Counting words...')\n",
    "    for pair in pairs:\n",
    "        source_vocab.add_vocab(pair[0])                                   # 영어와 한글을 각각 add_vocab 해준다.\n",
    "        target_vocab.add_vocab(pair[1])\n",
    "    print('source vocab size = ', source_vocab.n_vocab)\n",
    "    print('target vocab size = ', target_vocab.n_vocab)\n",
    "    \n",
    "    return pairs, source_vocab, target_vocab"
   ]
  },
  {
   "cell_type": "code",
   "execution_count": 258,
   "metadata": {},
   "outputs": [
    {
     "name": "stdout",
     "output_type": "stream",
     "text": [
      "reading corpus...\n",
      "Read {} sentence pairs 4\n",
      "[['i feel hungry.', '나는 배가 고프다.'], ['pytorch is very easy.', '파이토치는 매우 쉽다.'], ['pytorch is a framework for deep learning.', '파이토치는 딥러닝을 위한 프레임워크이다.'], ['pytorch is very clear to use.', '파이토치는 사용하기 매우 직관적이다.']]\n",
      "Trimmed to 4 sentence pairs\n",
      "Counting words...\n",
      "source vocab size =  17\n",
      "target vocab size =  13\n"
     ]
    }
   ],
   "source": [
    "SOURCE_MAX_LENGTH = 10\n",
    "TARGET_MAX_LENGTH = 12\n",
    "load_pairs, load_source_vocab, load_target_vocab = preprocess(raw, SOURCE_MAX_LENGTH, TARGET_MAX_LENGTH)\n"
   ]
  },
  {
   "cell_type": "code",
   "execution_count": 259,
   "metadata": {},
   "outputs": [
    {
     "data": {
      "text/plain": [
       "{0: '<SOS>',\n",
       " 1: '<EOS>',\n",
       " 2: '나는',\n",
       " 3: '배가',\n",
       " 4: '고프다.',\n",
       " 5: '파이토치는',\n",
       " 6: '매우',\n",
       " 7: '쉽다.',\n",
       " 8: '딥러닝을',\n",
       " 9: '위한',\n",
       " 10: '프레임워크이다.',\n",
       " 11: '사용하기',\n",
       " 12: '직관적이다.'}"
      ]
     },
     "execution_count": 259,
     "metadata": {},
     "output_type": "execute_result"
    }
   ],
   "source": [
    "load_target_vocab.index2vocab"
   ]
  },
  {
   "cell_type": "code",
   "execution_count": 260,
   "metadata": {},
   "outputs": [],
   "source": [
    "class Encoder(nn.Module):\n",
    "    def __init__(self, input_size, hidden_size):\n",
    "        super(Encoder, self).__init__()\n",
    "        self.hidden_size = hidden_size\n",
    "        self.embedding = nn.Embedding(input_size, hidden_size)\n",
    "        self.gru = nn.GRU(hidden_size, hidden_size)\n",
    "        \n",
    "    def forward(self, x, hidden):\n",
    "        x = self.embedding(x).view(1, 1, -1)\n",
    "        x, hidden = self.gru(x, hidden)\n",
    "        return x, hidden"
   ]
  },
  {
   "cell_type": "code",
   "execution_count": 261,
   "metadata": {},
   "outputs": [],
   "source": [
    "class Decoder(nn.Module):\n",
    "    def __init__(self, hidden_size, output_size):\n",
    "        super(Decoder, self).__init__()\n",
    "        self.hidden_size = hidden_size\n",
    "        self.embedding = nn.Embedding(output_size, hidden_size)\n",
    "        self.gru = nn.GRU(hidden_size, hidden_size)\n",
    "        self.out = nn.Linear(hidden_size, output_size)\n",
    "        self.softmax = nn.LogSoftmax(dim=1)\n",
    "        \n",
    "    def forward(self, x, hidden):\n",
    "        x = self.embedding(x).view(1, 1, -1)\n",
    "        x, hidden = self.gru(x, hidden)\n",
    "        x = self.softmax(self.out(x[0]))\n",
    "        return x, hidden"
   ]
  },
  {
   "cell_type": "code",
   "execution_count": 262,
   "metadata": {},
   "outputs": [],
   "source": [
    "def tensorize(vocab, sentence):\n",
    "    indexs = [vocab.vocab2index[word] for word in sentence.split(\" \")]\n",
    "    indexs.append(vocab.vocab2index[\"<EOS>\"])\n",
    "    return torch.Tensor(indexs).long().to(device).view(-1,1)"
   ]
  },
  {
   "cell_type": "code",
   "execution_count": 218,
   "metadata": {},
   "outputs": [
    {
     "name": "stdout",
     "output_type": "stream",
     "text": [
      "tensor([[0]], device='cuda:0')\n",
      "tensor([[0]], device='cuda:0')\n",
      "tensor([[0]], device='cuda:0')\n",
      "tensor([[0]], device='cuda:0')\n",
      "tensor([[0]], device='cuda:0')\n",
      "tensor([[0]], device='cuda:0')\n",
      "tensor([[0]], device='cuda:0')\n",
      "tensor([[0]], device='cuda:0')\n",
      "tensor([[0]], device='cuda:0')\n",
      "tensor([[0]], device='cuda:0')\n",
      "Wall time: 43.5 ms\n"
     ]
    }
   ],
   "source": [
    "%%time\n",
    "enc_hidden_size = 16\n",
    "dec_hidden_size = enc_hidden_size\n",
    "\n",
    "enc = Encoder(load_source_vocab.n_vocab, enc_hidden_size).to(device)\n",
    "dec = Decoder(dec_hidden_size, load_target_vocab.n_vocab).to(device)\n",
    "\n",
    "train(load_pairs, load_source_vocab, load_target_vocab, enc, dec, 10, print_every=1000)"
   ]
  },
  {
   "cell_type": "code",
   "execution_count": null,
   "metadata": {},
   "outputs": [],
   "source": [
    "train(load_pairs, load_source_vocab, load_target_vocab, enc, dec, 2000, print_every=100)"
   ]
  },
  {
   "cell_type": "code",
   "execution_count": 263,
   "metadata": {},
   "outputs": [],
   "source": [
    "def train(pairs, source_vocab, target_vocab, encoder, decoder, n_iter, print_every=1000, learning_rate=0.01):\n",
    "    # n_iter = batch_size\n",
    "    loss_total = 0\n",
    "    encoder_optimizer = optim.SGD(encoder.parameters(), lr=learning_rate)\n",
    "    decoder_optimizer = optim.SGD(decoder.parameters(), lr=learning_rate)\n",
    "    \n",
    "    training_batch = [random.choice(pairs) for _ in range(n_iter)]\n",
    "    training_source = [tensorize(source_vocab, pair[0]) for pair in training_batch]\n",
    "    training_target = [tensorize(target_vocab, pair[1]) for pair in training_batch]\n",
    "    \n",
    "    criterion = nn.NLLLoss()\n",
    "    for i in range(1, n_iter + 1):\n",
    "        source_tensor = training_source[i - 1]\n",
    "        target_tensor = training_target[i - 1]\n",
    "        \n",
    "        encoder_hidden = torch.zeros([1, 1, encoder.hidden_size]).to(device)\n",
    "        \n",
    "        encoder_optimizer.zero_grad()\n",
    "        decoder_optimizer.zero_grad()\n",
    "        \n",
    "        source_length = source_tensor.size(0)\n",
    "        target_length = target_tensor.size(0)\n",
    "        \n",
    "        loss = 0\n",
    "        \n",
    "        for enc_input in range(source_length):\n",
    "            _, encoder_hidden = encoder(source_tensor[enc_input], encoder_hidden)\n",
    "            \n",
    "        decoder_input = torch.Tensor([[SOS_token]]).long().to(device)\n",
    "        decoder_hidden = encoder_hidden\n",
    "        \n",
    "        for di in range(target_length):\n",
    "            decoder_output, decoder_hidden = decoder(decoder_input, decoder_hidden)\n",
    "            loss += criterion(decoder_output, target_tensor[di])\n",
    "            decoder_input = target_tensor[di]\n",
    "        \n",
    "        \n",
    "        loss.backward()\n",
    "        \n",
    "        encoder_optimizer.step()\n",
    "        decoder_optimizer.step()\n",
    "        \n",
    "        loss_iter = loss.item() / target_length\n",
    "        loss_total += loss_iter\n",
    "        \n",
    "        if i % print_every == 0:\n",
    "            loss_avg = loss_total / print_every\n",
    "            loss_total = 0\n",
    "            print(\"[{} - {}%] loss = {:05.4f}\".format(i, i/n_iter * 100, loss_avg))"
   ]
  },
  {
   "cell_type": "code",
   "execution_count": 264,
   "metadata": {},
   "outputs": [],
   "source": [
    "def evaluate(pairs, source_vocab, target_vocab, encoder, decoder, target_max_length):\n",
    "    for pair in pairs:\n",
    "        print(\">\", pair[0])\n",
    "        print(\"=\", pair[1])\n",
    "        source_tensor = tensorize(source_vocab, pair[0])\n",
    "        source_length = source_tensor.size()[0]\n",
    "        encoder_hidden = torch.zeros([1, 1, encoder.hidden_size]).to(device)\n",
    "        \n",
    "        for ei in range(source_length):\n",
    "            _, encoder_hidden = encoder(source_tensor[ei], encoder_hidden)\n",
    "            \n",
    "        decoder_input = torch.Tensor([[SOS_token]]).long().to(device)\n",
    "        decoder_hidden = encoder_hidden.to(device)\n",
    "        decoded_words = []\n",
    "        \n",
    "        for di in range(target_max_length):\n",
    "            decoder_output, decoder_hidden = decoder(decoder_input, decoder_hidden)\n",
    "            _, top_index = decoder_output.data.topk(1)\n",
    "#             print('item : ',decoder_output.data.topk(1)[1])\n",
    "            if top_index.item() == EOS_token:\n",
    "                decoded_words.append(\"<EOS>\")\n",
    "                break\n",
    "            else:\n",
    "                decoded_words.append(target_vocab.index2vocab[top_index.item()])\n",
    "            \n",
    "            decoder_input = top_index.squeeze().detach()\n",
    "            \n",
    "        predict_words = decoded_words\n",
    "        predict_sentence = \" \".join(predict_words)\n",
    "        print(\"<\", predict_sentence)\n",
    "        print(\"\")          "
   ]
  },
  {
   "cell_type": "code",
   "execution_count": 277,
   "metadata": {},
   "outputs": [
    {
     "name": "stdout",
     "output_type": "stream",
     "text": [
      "Wall time: 6.52 ms\n"
     ]
    }
   ],
   "source": [
    "%%time\n",
    "enc_hidden_size = 16\n",
    "dec_hidden_size = enc_hidden_size\n",
    "enc = Encoder(load_source_vocab.n_vocab, enc_hidden_size).to(device)\n",
    "dec = Decoder(dec_hidden_size, load_target_vocab.n_vocab).to(device)"
   ]
  },
  {
   "cell_type": "code",
   "execution_count": 274,
   "metadata": {},
   "outputs": [
    {
     "data": {
      "text/plain": [
       "Encoder(\n",
       "  (embedding): Embedding(17, 16)\n",
       "  (gru): GRU(16, 16)\n",
       ")"
      ]
     },
     "execution_count": 274,
     "metadata": {},
     "output_type": "execute_result"
    }
   ],
   "source": [
    "enc"
   ]
  },
  {
   "cell_type": "code",
   "execution_count": 1,
   "metadata": {},
   "outputs": [
    {
     "ename": "NameError",
     "evalue": "name 'Encoder' is not defined",
     "output_type": "error",
     "traceback": [
      "\u001b[1;31m---------------------------------------------------------------------------\u001b[0m",
      "\u001b[1;31mNameError\u001b[0m                                 Traceback (most recent call last)",
      "\u001b[1;32m<timed exec>\u001b[0m in \u001b[0;36m<module>\u001b[1;34m\u001b[0m\n",
      "\u001b[1;31mNameError\u001b[0m: name 'Encoder' is not defined"
     ]
    }
   ],
   "source": [
    "%%time\n",
    "import random\n",
    "encoder = Encoder().to(device)\n",
    "decoder = Decoder().to(device)\n",
    "learning_rate=0.01\n",
    "n_iter = 2000\n",
    "loss_list = []\n",
    "\n",
    "loss_total = 0\n",
    "encoder_optimizer = optim.SGD(encoder.parameters(), lr=learning_rate)\n",
    "decoder_optimizer = optim.SGD(decoder.parameters(), lr=learning_rate)\n",
    "\n",
    "training_batch = [random.choice(load_pairs) for _ in range(n_iter)]\n",
    "training_source = [tensorize(load_source_vocab, pair[0]) for pair in training_batch]\n",
    "training_target = [tensorize(load_target_vocab, pair[1]) for pair in training_batch]\n",
    "\n",
    "\n",
    "criterion = nn.NLLLoss()\n",
    "for i in range(1, n_iter + 1):\n",
    "    source_tensor = training_source[i - 1]\n",
    "    target_tensor = training_target[i - 1]\n",
    "    \n",
    "    encoder_hidden = torch.zeros([1, 1, encoder.hidden_size]).to(device)    \n",
    "    \n",
    "    encoder_optimizer.zero_grad()\n",
    "    decoder_optimizer.zero_grad()\n",
    "    \n",
    "    source_length = source_tensor.size(0)\n",
    "    target_length = target_tensor.size(0)\n",
    "    \n",
    "    loss = 0\n",
    "\n",
    "    for enc_input in range(source_length):\n",
    "        _, encoder_hidden = encoder(source_tensor[enc_input], encoder_hidden)\n",
    "#     # 한 문장의 encoder 끝\n",
    "        \n",
    "    decoder_input = torch.Tensor([[SOS_token]]).long().to(device)\n",
    "    decoder_hidden = encoder_hidden\n",
    "    \n",
    "    for di in range(target_length):\n",
    "        decoder_output, decoder_hidden = decoder(decoder_input, decoder_hidden)\n",
    "        loss += criterion(decoder_output, target_tensor[di])\n",
    "        decoder_input = target_tensor[di]\n",
    "        \n",
    "    loss.backward()\n",
    "    encoder_optimizer.step()\n",
    "    decoder_optimizer.step()\n",
    "\n",
    "    loss_iter = loss.item() / target_length\n",
    "    loss_total += loss_iter\n",
    "    \n",
    "    if i % 100 == 0:\n",
    "        loss_avg = loss_total / 100\n",
    "        loss_total = 0\n",
    "        print(\"[{} - {}%] loss = {:05.4f}\".format(i, i/n_iter * 100, loss_avg))"
   ]
  },
  {
   "cell_type": "code",
   "execution_count": 278,
   "metadata": {},
   "outputs": [
    {
     "name": "stdout",
     "output_type": "stream",
     "text": [
      "[100 - 5.0%] loss = 2.1740\n",
      "[200 - 10.0%] loss = 1.5694\n",
      "[300 - 15.0%] loss = 1.1082\n",
      "[400 - 20.0%] loss = 0.7854\n",
      "[500 - 25.0%] loss = 0.6191\n",
      "[600 - 30.0%] loss = 0.5136\n",
      "[700 - 35.0%] loss = 0.4195\n",
      "[800 - 40.0%] loss = 0.3481\n",
      "[900 - 45.0%] loss = 0.3044\n",
      "[1000 - 50.0%] loss = 0.2569\n",
      "[1100 - 55.00000000000001%] loss = 0.2386\n",
      "[1200 - 60.0%] loss = 0.2106\n",
      "[1300 - 65.0%] loss = 0.1916\n",
      "[1400 - 70.0%] loss = 0.1659\n",
      "[1500 - 75.0%] loss = 0.1511\n",
      "[1600 - 80.0%] loss = 0.1276\n",
      "[1700 - 85.0%] loss = 0.1184\n",
      "[1800 - 90.0%] loss = 0.1007\n",
      "[1900 - 95.0%] loss = 0.0891\n",
      "[2000 - 100.0%] loss = 0.0751\n"
     ]
    }
   ],
   "source": [
    "train(load_pairs, load_source_vocab, load_target_vocab, enc, dec, 2000, print_every=100)"
   ]
  },
  {
   "cell_type": "code",
   "execution_count": 35,
   "metadata": {},
   "outputs": [
    {
     "name": "stdout",
     "output_type": "stream",
     "text": [
      "> do you have one?\n",
      "= en as-tu un ?\n",
      "< en as-tu un ? <EOS>\n",
      "\n",
      "> please forgive me.\n",
      "= veuillez me pardonner.\n",
      "< veuillez me pardonner. <EOS>\n",
      "\n",
      "> make another choice.\n",
      "= fais un autre choix.\n",
      "< fais un autre choix. <EOS>\n",
      "\n",
      "> i agree with everyone.\n",
      "= je suis d'accord avec tout le monde.\n",
      "< je suis d'accord avec tout le monde. <EOS>\n",
      "\n"
     ]
    }
   ],
   "source": [
    "evaluate(load_pairs, load_source_vocab, load_target_vocab, enc, dec, TARGET_MAX_LENGTH)"
   ]
  },
  {
   "cell_type": "code",
   "execution_count": null,
   "metadata": {},
   "outputs": [],
   "source": []
  }
 ],
 "metadata": {
  "kernelspec": {
   "display_name": "Python 3",
   "language": "python",
   "name": "python3"
  },
  "language_info": {
   "codemirror_mode": {
    "name": "ipython",
    "version": 3
   },
   "file_extension": ".py",
   "mimetype": "text/x-python",
   "name": "python",
   "nbconvert_exporter": "python",
   "pygments_lexer": "ipython3",
   "version": "3.7.3"
  }
 },
 "nbformat": 4,
 "nbformat_minor": 4
}
