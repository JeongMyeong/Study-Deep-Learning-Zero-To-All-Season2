{
 "cells": [
  {
   "cell_type": "code",
   "execution_count": 3,
   "metadata": {},
   "outputs": [],
   "source": [
    "import torch\n",
    "import torch.nn as nn\n",
    "import torch.nn.functional as F\n",
    "\n",
    "class MultivariateLinearRegressionModel(nn.Module):\n",
    "    def __init__(self):\n",
    "        super().__init__()\n",
    "        self.linear = nn.Linear(3, 1)\n",
    "        \n",
    "        def forward(self, x):\n",
    "            return self.linear(x)\n",
    "\n",
    "# 데이터\n",
    "X_train = torch.FloatTensor([[73, 80, 75],\n",
    "                             [93, 88, 93],\n",
    "                             [89, 91, 90], \n",
    "                             [96, 98, 100], \n",
    "                             [73, 66, 70]])\n",
    "y_train = torch.FloatTensor([[152], [185], [180], [196], [142]])\n",
    "\n",
    "# 모델 초기화\n",
    "W = torch.zeros((3, 1), requires_grad=True)\n",
    "b = torch.zeros(1, requires_grad=True)\n",
    "\n",
    "model = MultivariateLinearRegressionModel()\n",
    "\n",
    "# optimizer 설정\n",
    "optimizer = torch.optim.SGD([W, b], lr=1e-5)"
   ]
  },
  {
   "cell_type": "code",
   "execution_count": 4,
   "metadata": {},
   "outputs": [
    {
     "name": "stdout",
     "output_type": "stream",
     "text": [
      "Epoch :    0/20 hypothesis : tensor([0., 0., 0., 0., 0.]) cost : 29661.8008\n",
      "Epoch :    1/20 hypothesis : tensor([67.2578, 80.8397, 79.6523, 86.7394, 61.6605]) cost : 9298.5205\n",
      "Epoch :    2/20 hypothesis : tensor([104.9128, 126.0990, 124.2466, 135.3015,  96.1821]) cost : 2915.7131\n",
      "Epoch :    3/20 hypothesis : tensor([125.9942, 151.4381, 149.2133, 162.4896, 115.5097]) cost : 915.0405\n",
      "Epoch :    4/20 hypothesis : tensor([137.7968, 165.6247, 163.1911, 177.7112, 126.3307]) cost : 287.9360\n",
      "Epoch :    5/20 hypothesis : tensor([144.4044, 173.5674, 171.0168, 186.2332, 132.3891]) cost : 91.3710\n",
      "Epoch :    6/20 hypothesis : tensor([148.1035, 178.0144, 175.3980, 191.0042, 135.7812]) cost : 29.7581\n",
      "Epoch :    7/20 hypothesis : tensor([150.1744, 180.5042, 177.8508, 193.6753, 137.6805]) cost : 10.4453\n",
      "Epoch :    8/20 hypothesis : tensor([151.3336, 181.8983, 179.2240, 195.1707, 138.7440]) cost : 4.3912\n",
      "Epoch :    9/20 hypothesis : tensor([151.9824, 182.6789, 179.9928, 196.0079, 139.3396]) cost : 2.4931\n",
      "Epoch :   10/20 hypothesis : tensor([152.3454, 183.1161, 180.4231, 196.4765, 139.6732]) cost : 1.8977\n",
      "Epoch :   11/20 hypothesis : tensor([152.5485, 183.3610, 180.6640, 196.7389, 139.8602]) cost : 1.7105\n",
      "Epoch :   12/20 hypothesis : tensor([152.6620, 183.4982, 180.7988, 196.8857, 139.9651]) cost : 1.6514\n",
      "Epoch :   13/20 hypothesis : tensor([152.7253, 183.5752, 180.8742, 196.9678, 140.0240]) cost : 1.6324\n",
      "Epoch :   14/20 hypothesis : tensor([152.7606, 183.6184, 180.9164, 197.0138, 140.0571]) cost : 1.6259\n",
      "Epoch :   15/20 hypothesis : tensor([152.7802, 183.6427, 180.9399, 197.0395, 140.0759]) cost : 1.6234\n",
      "Epoch :   16/20 hypothesis : tensor([152.7909, 183.6565, 180.9530, 197.0538, 140.0865]) cost : 1.6221\n",
      "Epoch :   17/20 hypothesis : tensor([152.7968, 183.6643, 180.9603, 197.0618, 140.0927]) cost : 1.6213\n",
      "Epoch :   18/20 hypothesis : tensor([152.7999, 183.6688, 180.9644, 197.0662, 140.0963]) cost : 1.6205\n",
      "Epoch :   19/20 hypothesis : tensor([152.8014, 183.6715, 180.9666, 197.0686, 140.0985]) cost : 1.6198\n",
      "Epoch :   20/20 hypothesis : tensor([152.8020, 183.6731, 180.9677, 197.0699, 140.1000]) cost : 1.6190\n"
     ]
    }
   ],
   "source": [
    "epochs = 20\n",
    "for epoch in range(epochs+1):\n",
    "    # h(x)계산\n",
    "    hypothesis = X_train.matmul(W) + b\n",
    "#     hypothesis = model(X_train)\n",
    "    \n",
    "    # cost 계산\n",
    "    cost = torch.mean((hypothesis - y_train) **2)\n",
    "#     cost = F.mse_loss(prediction, y_train)\n",
    "    \n",
    "    # cost로 H(x) 개선\n",
    "    optimizer.zero_grad()\n",
    "    cost.backward()\n",
    "    optimizer.step()\n",
    "    \n",
    "    print('Epoch : {:4d}/{} hypothesis : {} cost : {:.4f}'.format( epoch, epochs, hypothesis.squeeze().detach(), cost.item()))"
   ]
  },
  {
   "cell_type": "code",
   "execution_count": null,
   "metadata": {},
   "outputs": [],
   "source": []
  }
 ],
 "metadata": {
  "kernelspec": {
   "display_name": "Python 3",
   "language": "python",
   "name": "python3"
  },
  "language_info": {
   "codemirror_mode": {
    "name": "ipython",
    "version": 3
   },
   "file_extension": ".py",
   "mimetype": "text/x-python",
   "name": "python",
   "nbconvert_exporter": "python",
   "pygments_lexer": "ipython3",
   "version": "3.7.3"
  }
 },
 "nbformat": 4,
 "nbformat_minor": 4
}
