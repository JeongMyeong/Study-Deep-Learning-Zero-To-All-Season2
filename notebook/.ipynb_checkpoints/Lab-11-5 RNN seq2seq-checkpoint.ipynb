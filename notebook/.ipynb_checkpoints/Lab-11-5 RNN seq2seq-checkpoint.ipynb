{
 "cells": [
  {
   "cell_type": "code",
   "execution_count": 1,
   "metadata": {},
   "outputs": [],
   "source": [
    "import random\n",
    "import torch\n",
    "import torch.nn as nn\n",
    "from torch import optim\n"
   ]
  },
  {
   "cell_type": "code",
   "execution_count": 96,
   "metadata": {},
   "outputs": [
    {
     "ename": "NameError",
     "evalue": "name 'torchnlp' is not defined",
     "output_type": "error",
     "traceback": [
      "\u001b[1;31m---------------------------------------------------------------------------\u001b[0m",
      "\u001b[1;31mNameError\u001b[0m                                 Traceback (most recent call last)",
      "\u001b[1;32m<ipython-input-96-6b84bb5366d0>\u001b[0m in \u001b[0;36m<module>\u001b[1;34m\u001b[0m\n\u001b[1;32m----> 1\u001b[1;33m \u001b[0mtorchnlp\u001b[0m\u001b[1;33m.\u001b[0m\u001b[0mnn\u001b[0m\u001b[1;33m.\u001b[0m\u001b[0mattention\u001b[0m\u001b[1;33m\u001b[0m\u001b[1;33m\u001b[0m\u001b[0m\n\u001b[0m",
      "\u001b[1;31mNameError\u001b[0m: name 'torchnlp' is not defined"
     ]
    }
   ],
   "source": []
  },
  {
   "cell_type": "code",
   "execution_count": 2,
   "metadata": {},
   "outputs": [],
   "source": [
    "torch.manual_seed(42)\n",
    "device = torch.device('cuda' if torch.cuda.is_available() else 'cpu')"
   ]
  },
  {
   "cell_type": "code",
   "execution_count": 3,
   "metadata": {},
   "outputs": [],
   "source": [
    "raw = [\"I feel hungry.\t나는 배가 고프다.\",\n",
    "       \"Pytorch is very easy.\t파이토치는 매우 쉽다.\",\n",
    "       \"Pytorch is a framework for deep learning.\t파이토치는 딥러닝을 위한 프레임워크이다.\",\n",
    "       \"Pytorch is very clear to use.\t파이토치는 사용하기 매우 직관적이다.\"]"
   ]
  },
  {
   "cell_type": "code",
   "execution_count": 4,
   "metadata": {},
   "outputs": [],
   "source": [
    "SOS_token = 0\n",
    "EOS_token = 1"
   ]
  },
  {
   "cell_type": "code",
   "execution_count": 88,
   "metadata": {},
   "outputs": [],
   "source": [
    "class Vocab:\n",
    "    def __init__(self):\n",
    "        self.vocab2index = {\"<SOS>\": SOS_token, \"<EOS>\": EOS_token}       # dictionary\n",
    "        self.index2vocab = {SOS_token : \"<SOS>\", EOS_token: \"<EOS>\"}      # dictionary\n",
    "        self.vocab_count = {}                                             # dictionary 단어 count\n",
    "        self.n_vocab = len(self.vocab2index)                              # vocab의 index값 (temp)\n",
    "        \n",
    "    def add_vocab(self, sentence):\n",
    "        for word in sentence.split(\" \"):\n",
    "            if word not in self.vocab2index:                              # 만약 vocab2index dictionary에 단어가 없으면\n",
    "                self.vocab2index[word] = self.n_vocab                     # vocab2index dictionary에 추가하면서 index를 표기해준다.\n",
    "                self.vocab_count[word] = 1                                # 추가한 단어의 갯수 여기서는 처음 들어가는 거라 1로 고정\n",
    "                self.index2vocab[self.n_vocab] = word                     # vocab2index에서 index 값에 맞게 word를 넣어준다.\n",
    "                self.n_vocab += 1                                         # 인덱스 1올려준다.\n",
    "            else:\n",
    "                self.vocab_count[word] += 1                               # 만약 있는 단어면 근야 count만 올려준다."
   ]
  },
  {
   "cell_type": "code",
   "execution_count": 89,
   "metadata": {},
   "outputs": [],
   "source": [
    "def filter_pair(pair, source_max_length, target_max_length):              # pair에는 데이터 한줄씩 들어간다. [영어, 한글] pair[0]는 영어 pair[1]은 한글\n",
    "    return len(pair[0].split(\" \")) < source_max_length and len(pair[1].split(\" \")) < target_max_length"
   ]
  },
  {
   "cell_type": "code",
   "execution_count": 90,
   "metadata": {},
   "outputs": [],
   "source": [
    "def preprocess(corpus, source_max_length, target_max_length):\n",
    "    print('reading corpus...') \n",
    "    pairs = []\n",
    "    for line in corpus:\n",
    "        pairs.append([s for s in line.strip().lower().split('\\t')])\n",
    "    print('Read {} sentence pairs', format(len(pairs)))\n",
    "    \n",
    "    pairs = [pair for pair in pairs if filter_pair(pair, source_max_length, target_max_length)]\n",
    "    print('Trimmed to {} sentence pairs'.format(len(pairs)))\n",
    "    \n",
    "    source_vocab = Vocab()\n",
    "    target_vocab = Vocab()\n",
    "    \n",
    "    print('Counting words...')\n",
    "    for pair in pairs:\n",
    "        source_vocab.add_vocab(pair[0])                                   # 영어와 한글을 각각 add_vocab 해준다.\n",
    "        target_vocab.add_vocab(pair[1])\n",
    "    print('source vocab size = ', source_vocab.n_vocab)\n",
    "    print('target vocab size = ', target_vocab.n_vocab)\n",
    "    \n",
    "    return pairs, source_vocab, target_vocab"
   ]
  },
  {
   "cell_type": "code",
   "execution_count": 95,
   "metadata": {},
   "outputs": [
    {
     "name": "stdout",
     "output_type": "stream",
     "text": [
      "reading corpus...\n",
      "Read {} sentence pairs 4\n",
      "Trimmed to 4 sentence pairs\n",
      "Counting words...\n",
      "source vocab size =  17\n",
      "target vocab size =  13\n",
      "['pytorch is very clear to use.', '파이토치는 사용하기 매우 직관적이다.']\n"
     ]
    }
   ],
   "source": [
    "SOURCE_MAX_LENGTH = 11\n",
    "TARGET_MAX_LENGTH = 12\n",
    "load_pairs, load_source_vocab, load_target_vocab = preprocess(raw, SOURCE_MAX_LENGTH, TARGET_MAX_LENGTH)\n",
    "print(random.choice(load_pairs))"
   ]
  },
  {
   "cell_type": "code",
   "execution_count": 8,
   "metadata": {},
   "outputs": [],
   "source": [
    "class Encoder(nn.Module):\n",
    "    def __init__(self, input_size, hidden_size):\n",
    "        super(Encoder, self).__init__()\n",
    "        self.hidden_size = hidden_size\n",
    "        self.embedding = nn.Embedding(input_size, hidden_size)\n",
    "        self.gru = nn.GRU(hidden_size, hidden_size)\n",
    "        \n",
    "    def forward(self, x, hidden):\n",
    "        x = self.embedding(x).view(1, 1, -1)\n",
    "        x, hidden = self.gru(x, hidden)\n",
    "        return x, hidden\n",
    "    \n"
   ]
  },
  {
   "cell_type": "code",
   "execution_count": 9,
   "metadata": {},
   "outputs": [],
   "source": [
    "class Decoder(nn.Module):\n",
    "    def __init__(self, hidden_size, output_size):\n",
    "        super(Decoder, self).__init__()\n",
    "        self.hidden_size = hidden_size\n",
    "        self.embedding = nn.Embedding(output_size, hidden_size)\n",
    "        self.gru = nn.GRU(hidden_size, hidden_size)\n",
    "        self.out = nn.Linear(hidden_size, output_size)\n",
    "        self.softmax = nn.LogSoftmax(dim=1)\n",
    "        \n",
    "    def forward(self, x, hidden):\n",
    "        x = self.embedding(x).view(1, 1, -1)\n",
    "        x, hidden = self.gru(x, hidden)\n",
    "        x = self.softmax(self.out(x[0]))\n",
    "        return x, hidden\n",
    "    \n",
    "    \n",
    "        "
   ]
  },
  {
   "cell_type": "code",
   "execution_count": 10,
   "metadata": {},
   "outputs": [],
   "source": [
    "def tensorize(vocab, sentence):\n",
    "    indexs = [vocab.vocab2index[word] for word in sentence.split(\" \")]\n",
    "    indexs.append(vocab.vocab2index[\"<EOS>\"])\n",
    "    return torch.Tensor(indexs).long().to(device).view(-1,1)\n"
   ]
  },
  {
   "cell_type": "code",
   "execution_count": 11,
   "metadata": {},
   "outputs": [],
   "source": [
    "def train(pairs, source_vocab, target_vocab, encoder, decoder, n_iter, print_every=1000, learning_rate=0.01):\n",
    "    loss_total = 0\n",
    "    encoder_optimizer = optim.SGD(encoder.parameters(), lr=learning_rate)\n",
    "    decoder_optimizer = optim.SGD(decoder.parameters(), lr=learning_rate)\n",
    "    \n",
    "    training_batch = [random.choice(pairs) for _ in range(n_iter)]\n",
    "    training_source = [tensorize(source_vocab, pair[0]) for pair in training_batch]\n",
    "    training_target = [tensorize(target_vocab, pair[1]) for pair in training_batch]\n",
    "    \n",
    "    criterion = nn.NLLLoss()\n",
    "    \n",
    "    for i in range(1, n_iter + 1):\n",
    "        source_tensor = training_source[i - 1]\n",
    "        target_tensor = training_target[i - 1]\n",
    "        \n",
    "        encoder_hidden = torch.zeros([1, 1, encoder.hidden_size]).to(device)\n",
    "        \n",
    "        encoder_optimizer.zero_grad()\n",
    "        decoder_optimizer.zero_grad()\n",
    "        \n",
    "        source_length = source_tensor.size(0)\n",
    "        target_length = target_tensor.size(0)\n",
    "        \n",
    "        loss = 0\n",
    "        \n",
    "        for enc_input in range(source_length):\n",
    "            _, encoder_hidden = encoder(source_tensor[enc_input], encoder_hidden)\n",
    "            \n",
    "        decoder_input = torch.Tensor([[SOS_token]]).long().to(device)\n",
    "        decoder_hidden = encoder_hidden\n",
    "        \n",
    "        for di in range(target_length):\n",
    "            decoder_output, decoder_hidden = decoder(decoder_input, decoder_hidden)\n",
    "            loss += criterion(decoder_output, target_tensor[di])\n",
    "            decoder_input = target_tensor[di]\n",
    "            \n",
    "        loss.backward()\n",
    "        \n",
    "        encoder_optimizer.step()\n",
    "        decoder_optimizer.step()\n",
    "        \n",
    "        loss_iter = loss.item() / target_length\n",
    "        loss_total += loss_iter\n",
    "        \n",
    "        if i % print_every == 0:\n",
    "            loss_avg = loss_total / print_every\n",
    "            loss_total = 0\n",
    "            print(\"[{} - {}%] loss = {:05.4f}\".format(i, i/n_iter * 100, loss_avg))"
   ]
  },
  {
   "cell_type": "code",
   "execution_count": 12,
   "metadata": {},
   "outputs": [],
   "source": [
    "def evaluate(pairs, source_vocab, target_vocab, encoder, decoder, target_max_length):\n",
    "    for pair in pairs:\n",
    "        print(\">\", pair[0])\n",
    "        print(\"=\", pair[1])\n",
    "        source_tensor = tensorize(source_vocab, pair[0])\n",
    "        source_length = source_tensor.size()[0]\n",
    "        encoder_hidden = torch.zeros([1, 1, encoder.hidden_size]).to(device)\n",
    "        \n",
    "        for ei in range(source_length):\n",
    "            _, encoder_hidden = encoder(source_tensor[ei], encoder_hidden)\n",
    "            \n",
    "        decoder_input = torch.Tensor([[SOS_token]]).long().to(device)\n",
    "        decoder_hidden = encoder_hidden.to(device)\n",
    "        decoded_words = []\n",
    "        \n",
    "        for di in range(target_max_length):\n",
    "            decoder_output, decoder_hidden = decoder(decoder_input, decoder_hidden)\n",
    "            _, top_index = decoder_output.data.topk(1)\n",
    "            if top_index.item() == EOS_token:\n",
    "                decoded_words.append(\"<EOS>\")\n",
    "                break\n",
    "            else:\n",
    "                decoded_words.append(target_vocab.index2vocab[top_index.item()])\n",
    "            \n",
    "            decoder_input = top_index.squeeze().detach()\n",
    "            \n",
    "        predict_words = decoded_words\n",
    "        predict_sentence = \" \".join(predict_words)\n",
    "        print(\"<\", predict_sentence)\n",
    "        print(\"\")\n",
    "            "
   ]
  },
  {
   "cell_type": "code",
   "execution_count": 20,
   "metadata": {},
   "outputs": [
    {
     "name": "stdout",
     "output_type": "stream",
     "text": [
      "reading corpus...\n",
      "Read {} sentence pairs 4\n",
      "Trimmed to 4 sentence pairs\n",
      "Counting words...\n",
      "source vocab size =  17\n",
      "target vocab size =  13\n",
      "['pytorch is a framework for deep learning.', '파이토치는 딥러닝을 위한 프레임워크이다.']\n"
     ]
    }
   ],
   "source": []
  },
  {
   "cell_type": "code",
   "execution_count": 15,
   "metadata": {},
   "outputs": [
    {
     "name": "stdout",
     "output_type": "stream",
     "text": [
      "Wall time: 2.4 s\n"
     ]
    }
   ],
   "source": [
    "%%time\n",
    "enc_hidden_size = 16\n",
    "dec_hidden_size = enc_hidden_size\n",
    "enc = Encoder(load_source_vocab.n_vocab, enc_hidden_size).to(device)\n",
    "dec = Decoder(dec_hidden_size, load_target_vocab.n_vocab).to(device)"
   ]
  },
  {
   "cell_type": "code",
   "execution_count": 16,
   "metadata": {},
   "outputs": [
    {
     "name": "stdout",
     "output_type": "stream",
     "text": [
      "[1000 - 20.0%] loss = 0.7506\n",
      "[2000 - 40.0%] loss = 0.1767\n",
      "[3000 - 60.0%] loss = 0.0531\n",
      "[4000 - 80.0%] loss = 0.0229\n",
      "[5000 - 100.0%] loss = 0.0144\n"
     ]
    }
   ],
   "source": [
    "train(load_pairs, load_source_vocab, load_target_vocab, enc, dec, 5000, print_every=1000)"
   ]
  },
  {
   "cell_type": "code",
   "execution_count": 17,
   "metadata": {},
   "outputs": [
    {
     "name": "stdout",
     "output_type": "stream",
     "text": [
      "> i feel hungry.\n",
      "= 나는 배가 고프다.\n",
      "< 나는 배가 고프다. <EOS>\n",
      "\n",
      "> pytorch is very easy.\n",
      "= 파이토치는 매우 쉽다.\n",
      "< 파이토치는 매우 쉽다. <EOS>\n",
      "\n",
      "> pytorch is a framework for deep learning.\n",
      "= 파이토치는 딥러닝을 위한 프레임워크이다.\n",
      "< 파이토치는 딥러닝을 위한 프레임워크이다. <EOS>\n",
      "\n",
      "> pytorch is very clear to use.\n",
      "= 파이토치는 사용하기 매우 직관적이다.\n",
      "< 파이토치는 사용하기 매우 직관적이다. <EOS>\n",
      "\n"
     ]
    }
   ],
   "source": [
    "evaluate(load_pairs, load_source_vocab, load_target_vocab, enc, dec, TARGET_MAX_LENGTH)"
   ]
  },
  {
   "cell_type": "code",
   "execution_count": null,
   "metadata": {},
   "outputs": [],
   "source": []
  }
 ],
 "metadata": {
  "kernelspec": {
   "display_name": "Python 3",
   "language": "python",
   "name": "python3"
  },
  "language_info": {
   "codemirror_mode": {
    "name": "ipython",
    "version": 3
   },
   "file_extension": ".py",
   "mimetype": "text/x-python",
   "name": "python",
   "nbconvert_exporter": "python",
   "pygments_lexer": "ipython3",
   "version": "3.7.3"
  }
 },
 "nbformat": 4,
 "nbformat_minor": 4
}
