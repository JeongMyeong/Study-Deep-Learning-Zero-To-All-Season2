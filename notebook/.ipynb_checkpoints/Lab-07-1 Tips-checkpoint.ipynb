{
 "cells": [
  {
   "cell_type": "code",
   "execution_count": 1,
   "metadata": {},
   "outputs": [],
   "source": [
    "import torch\n",
    "import torch.nn as nn\n",
    "import torch.nn.functional as F\n",
    "import torch.optim as optim"
   ]
  },
  {
   "cell_type": "code",
   "execution_count": 2,
   "metadata": {},
   "outputs": [],
   "source": [
    "import torch\n",
    "import torch.nn as nn\n",
    "import torch.nn.functional as F\n",
    "import torch.optim as optim"
   ]
  },
  {
   "cell_type": "code",
   "execution_count": 3,
   "metadata": {},
   "outputs": [
    {
     "data": {
      "text/plain": [
       "<torch._C.Generator at 0x2cf1207b690>"
      ]
     },
     "execution_count": 3,
     "metadata": {},
     "output_type": "execute_result"
    }
   ],
   "source": [
    "torch.manual_seed(1)"
   ]
  },
  {
   "cell_type": "code",
   "execution_count": 4,
   "metadata": {},
   "outputs": [],
   "source": [
    "X_train = torch.FloatTensor([[1, 2, 1],\n",
    "                             [1, 3, 2],\n",
    "                             [1, 3, 4],\n",
    "                             [1, 5, 5],\n",
    "                             [1, 7, 5],\n",
    "                             [1, 2, 5],\n",
    "                             [1, 6, 6],\n",
    "                             [1, 7, 7]\n",
    "                            ])\n",
    "y_train = torch.LongTensor([2, 2, 2, 1, 1, 1, 0, 0])\n"
   ]
  },
  {
   "cell_type": "code",
   "execution_count": 5,
   "metadata": {},
   "outputs": [],
   "source": [
    "X_test = torch.FloatTensor([[2, 1, 1], [3, 1, 2], [3, 3, 4]])\n",
    "y_test = torch.LongTensor([2,2,2])\n"
   ]
  },
  {
   "cell_type": "code",
   "execution_count": 6,
   "metadata": {},
   "outputs": [],
   "source": [
    "class SoftmaxClassfierModel(nn.Module):\n",
    "    def __init__(self):\n",
    "        super().__init__()\n",
    "        self.linear = nn.Linear(3, 3)\n",
    "    def forward(self, x):\n",
    "        return self.linear(x)\n"
   ]
  },
  {
   "cell_type": "code",
   "execution_count": 7,
   "metadata": {},
   "outputs": [],
   "source": [
    "model =  SoftmaxClassfierModel()"
   ]
  },
  {
   "cell_type": "code",
   "execution_count": 8,
   "metadata": {},
   "outputs": [],
   "source": [
    "# optimizer 설정\n",
    "optimizer = optim.SGD(model.parameters(), lr=0.1)"
   ]
  },
  {
   "cell_type": "code",
   "execution_count": 9,
   "metadata": {},
   "outputs": [],
   "source": [
    "def train(model, optimizer, X_train, y_train):\n",
    "    epochs = 20\n",
    "    for epoch in range(epochs):\n",
    "        \n",
    "        # H(x) 계산\n",
    "        prediction = model(X_train)\n",
    "        \n",
    "        # cost 계산\n",
    "        cost = F.cross_entropy(prediction, y_train)\n",
    "        \n",
    "        # cost로 H(x) 개선\n",
    "        optimizer.zero_grad()\n",
    "        cost.backward()\n",
    "        optimizer.step()\n",
    "        \n",
    "        print('Epochs : {:4d}/{} Cost : {:.6f}'.format(epoch, epochs, cost.item()))"
   ]
  },
  {
   "cell_type": "code",
   "execution_count": 10,
   "metadata": {},
   "outputs": [],
   "source": [
    "def test(model, optimizer, X_test, y_test):\n",
    "    prediction = model(X_test)\n",
    "    predicted_classes = prediction.max(1)[1]\n",
    "    correct_count = (predicted_classes == y_test).sum().item()\n",
    "    cost = F.cross_entropy(prediction, y_test)\n",
    "    \n",
    "    print('Acc : {}% Cost : {:.6f}'.format(correct_count / len(y_test) * 100, cost.item() ))"
   ]
  },
  {
   "cell_type": "markdown",
   "metadata": {},
   "source": [
    "# Run"
   ]
  },
  {
   "cell_type": "code",
   "execution_count": 11,
   "metadata": {},
   "outputs": [
    {
     "name": "stdout",
     "output_type": "stream",
     "text": [
      "Epochs :    0/20 Cost : 2.203667\n",
      "Epochs :    1/20 Cost : 1.199645\n",
      "Epochs :    2/20 Cost : 1.142985\n",
      "Epochs :    3/20 Cost : 1.117769\n",
      "Epochs :    4/20 Cost : 1.100901\n",
      "Epochs :    5/20 Cost : 1.089523\n",
      "Epochs :    6/20 Cost : 1.079872\n",
      "Epochs :    7/20 Cost : 1.071320\n",
      "Epochs :    8/20 Cost : 1.063325\n",
      "Epochs :    9/20 Cost : 1.055720\n",
      "Epochs :   10/20 Cost : 1.048378\n",
      "Epochs :   11/20 Cost : 1.041245\n",
      "Epochs :   12/20 Cost : 1.034285\n",
      "Epochs :   13/20 Cost : 1.027478\n",
      "Epochs :   14/20 Cost : 1.020813\n",
      "Epochs :   15/20 Cost : 1.014279\n",
      "Epochs :   16/20 Cost : 1.007872\n",
      "Epochs :   17/20 Cost : 1.001586\n",
      "Epochs :   18/20 Cost : 0.995419\n",
      "Epochs :   19/20 Cost : 0.989365\n"
     ]
    }
   ],
   "source": [
    "train(model, optimizer, X_train, y_train)"
   ]
  },
  {
   "cell_type": "markdown",
   "metadata": {},
   "source": [
    "# Learning Rate\n",
    "- learning rate가 너무 크면 cost가 점점 늘어난다 (사방으로 튀게 됨)(Overshooting)\n"
   ]
  },
  {
   "cell_type": "code",
   "execution_count": 12,
   "metadata": {},
   "outputs": [
    {
     "name": "stdout",
     "output_type": "stream",
     "text": [
      "Epochs :    0/20 Cost : 1.280268\n",
      "Epochs :    1/20 Cost : 976950.750000\n",
      "Epochs :    2/20 Cost : 1279135.125000\n",
      "Epochs :    3/20 Cost : 1198379.000000\n",
      "Epochs :    4/20 Cost : 1098825.875000\n",
      "Epochs :    5/20 Cost : 1968197.625000\n",
      "Epochs :    6/20 Cost : 284763.250000\n",
      "Epochs :    7/20 Cost : 1532260.125000\n",
      "Epochs :    8/20 Cost : 1651504.000000\n",
      "Epochs :    9/20 Cost : 521878.500000\n",
      "Epochs :   10/20 Cost : 1397263.250000\n",
      "Epochs :   11/20 Cost : 750986.250000\n",
      "Epochs :   12/20 Cost : 918691.500000\n",
      "Epochs :   13/20 Cost : 1487888.250000\n",
      "Epochs :   14/20 Cost : 1582260.125000\n",
      "Epochs :   15/20 Cost : 685818.062500\n",
      "Epochs :   16/20 Cost : 1140048.750000\n",
      "Epochs :   17/20 Cost : 940566.500000\n",
      "Epochs :   18/20 Cost : 931638.250000\n",
      "Epochs :   19/20 Cost : 1971322.625000\n"
     ]
    }
   ],
   "source": [
    "model = SoftmaxClassfierModel()\n",
    "optimizer = optim.SGD(model.parameters(), lr=1e5)\n",
    "train(model, optimizer, X_train, y_train)"
   ]
  },
  {
   "cell_type": "markdown",
   "metadata": {},
   "source": [
    "- learning rate가 너무 작으면  cost가 거의 줄어들지 않는다\n"
   ]
  },
  {
   "cell_type": "code",
   "execution_count": 13,
   "metadata": {},
   "outputs": [
    {
     "name": "stdout",
     "output_type": "stream",
     "text": [
      "Epochs :    0/20 Cost : 3.187324\n",
      "Epochs :    1/20 Cost : 3.187324\n",
      "Epochs :    2/20 Cost : 3.187324\n",
      "Epochs :    3/20 Cost : 3.187324\n",
      "Epochs :    4/20 Cost : 3.187324\n",
      "Epochs :    5/20 Cost : 3.187324\n",
      "Epochs :    6/20 Cost : 3.187324\n",
      "Epochs :    7/20 Cost : 3.187324\n",
      "Epochs :    8/20 Cost : 3.187324\n",
      "Epochs :    9/20 Cost : 3.187324\n",
      "Epochs :   10/20 Cost : 3.187324\n",
      "Epochs :   11/20 Cost : 3.187324\n",
      "Epochs :   12/20 Cost : 3.187324\n",
      "Epochs :   13/20 Cost : 3.187324\n",
      "Epochs :   14/20 Cost : 3.187324\n",
      "Epochs :   15/20 Cost : 3.187324\n",
      "Epochs :   16/20 Cost : 3.187324\n",
      "Epochs :   17/20 Cost : 3.187324\n",
      "Epochs :   18/20 Cost : 3.187324\n",
      "Epochs :   19/20 Cost : 3.187324\n"
     ]
    }
   ],
   "source": [
    "model = SoftmaxClassfierModel()\n",
    "optimizer = optim.SGD(model.parameters(), lr=1e-10)\n",
    "train(model, optimizer, X_train, y_train)"
   ]
  },
  {
   "cell_type": "markdown",
   "metadata": {},
   "source": [
    "- 적절한 숫자로 시작해 발산하면 작게, cost가 줄어들지 않으면 크게 조정해본다"
   ]
  },
  {
   "cell_type": "code",
   "execution_count": 14,
   "metadata": {},
   "outputs": [
    {
     "name": "stdout",
     "output_type": "stream",
     "text": [
      "Epochs :    0/20 Cost : 1.341573\n",
      "Epochs :    1/20 Cost : 1.198802\n",
      "Epochs :    2/20 Cost : 1.150877\n",
      "Epochs :    3/20 Cost : 1.131977\n",
      "Epochs :    4/20 Cost : 1.116242\n",
      "Epochs :    5/20 Cost : 1.102514\n",
      "Epochs :    6/20 Cost : 1.089676\n",
      "Epochs :    7/20 Cost : 1.077479\n",
      "Epochs :    8/20 Cost : 1.065775\n",
      "Epochs :    9/20 Cost : 1.054511\n",
      "Epochs :   10/20 Cost : 1.043655\n",
      "Epochs :   11/20 Cost : 1.033187\n",
      "Epochs :   12/20 Cost : 1.023091\n",
      "Epochs :   13/20 Cost : 1.013356\n",
      "Epochs :   14/20 Cost : 1.003968\n",
      "Epochs :   15/20 Cost : 0.994917\n",
      "Epochs :   16/20 Cost : 0.986189\n",
      "Epochs :   17/20 Cost : 0.977775\n",
      "Epochs :   18/20 Cost : 0.969661\n",
      "Epochs :   19/20 Cost : 0.961836\n"
     ]
    }
   ],
   "source": [
    "model = SoftmaxClassfierModel()\n",
    "optimizer = optim.SGD(model.parameters(), lr=1e-1)\n",
    "train(model, optimizer, X_train, y_train)"
   ]
  },
  {
   "cell_type": "markdown",
   "metadata": {},
   "source": [
    "# Data Preprocessing\n"
   ]
  },
  {
   "cell_type": "code",
   "execution_count": 15,
   "metadata": {},
   "outputs": [],
   "source": [
    "X_train = torch.FloatTensor([[73, 80, 75],\n",
    "                             [93, 88, 93],\n",
    "                             [89, 91, 90],\n",
    "                             [96, 98, 100],\n",
    "                             [73, 66, 70]\n",
    "                            ])\n",
    "y_train = torch.FloatTensor([[152], [185], [180], [196], [142]])"
   ]
  },
  {
   "cell_type": "code",
   "execution_count": 16,
   "metadata": {},
   "outputs": [
    {
     "name": "stdout",
     "output_type": "stream",
     "text": [
      "tensor([[-1.0674, -0.3758, -0.8398],\n",
      "        [ 0.7418,  0.2778,  0.5863],\n",
      "        [ 0.3799,  0.5229,  0.3486],\n",
      "        [ 1.0132,  1.0948,  1.1409],\n",
      "        [-1.0674, -1.5197, -1.2360]])\n"
     ]
    }
   ],
   "source": [
    "mu = X_train.mean(dim=0)\n",
    "sigma = X_train.std(dim=0)\n",
    "norm_X_train = (X_train - mu) / sigma\n",
    "print(norm_X_train)"
   ]
  },
  {
   "cell_type": "code",
   "execution_count": 17,
   "metadata": {},
   "outputs": [],
   "source": [
    "class MultivariateLinearRegressionModel(nn.Module):\n",
    "    def __init__(self):\n",
    "        super().__init__()\n",
    "        self.linear = nn.Linear(3, 1)\n",
    "    def forward(self, x):\n",
    "        return self.linear(x)"
   ]
  },
  {
   "cell_type": "code",
   "execution_count": 18,
   "metadata": {},
   "outputs": [],
   "source": [
    "model = MultivariateLinearRegressionModel()\n",
    "optimizer = optim.SGD(model.parameters(), lr=1e-1)"
   ]
  },
  {
   "cell_type": "code",
   "execution_count": 19,
   "metadata": {},
   "outputs": [],
   "source": [
    "def train(model, optimizer, X_train, y_train):\n",
    "    epochs=20\n",
    "    for epoch in range(epochs+1):\n",
    "        \n",
    "        # H(x) 계산\n",
    "        prediction = model(X_train)\n",
    "        \n",
    "        # Cost 계산\n",
    "        cost = F.mse_loss(prediction, y_train)\n",
    "        \n",
    "        # cost 로 H(x) 개선\n",
    "        optimizer.zero_grad()\n",
    "        cost.backward()\n",
    "        optimizer.step()\n",
    "        \n",
    "        print('Epoch : {:4d}/{} Cost : {:.6f}'.format(epoch, epochs, cost.item()))"
   ]
  },
  {
   "cell_type": "code",
   "execution_count": 20,
   "metadata": {},
   "outputs": [
    {
     "name": "stdout",
     "output_type": "stream",
     "text": [
      "Epoch :    0/20 Cost : 29785.091797\n",
      "Epoch :    1/20 Cost : 18906.164062\n",
      "Epoch :    2/20 Cost : 12054.674805\n",
      "Epoch :    3/20 Cost : 7702.029297\n",
      "Epoch :    4/20 Cost : 4925.733398\n",
      "Epoch :    5/20 Cost : 3151.632568\n",
      "Epoch :    6/20 Cost : 2016.996094\n",
      "Epoch :    7/20 Cost : 1291.051270\n",
      "Epoch :    8/20 Cost : 826.505310\n",
      "Epoch :    9/20 Cost : 529.207336\n",
      "Epoch :   10/20 Cost : 338.934204\n",
      "Epoch :   11/20 Cost : 217.153549\n",
      "Epoch :   12/20 Cost : 139.206741\n",
      "Epoch :   13/20 Cost : 89.313782\n",
      "Epoch :   14/20 Cost : 57.375462\n",
      "Epoch :   15/20 Cost : 36.928429\n",
      "Epoch :   16/20 Cost : 23.835772\n",
      "Epoch :   17/20 Cost : 15.450428\n",
      "Epoch :   18/20 Cost : 10.077808\n",
      "Epoch :   19/20 Cost : 6.633700\n",
      "Epoch :   20/20 Cost : 4.423987\n"
     ]
    }
   ],
   "source": [
    "train(model, optimizer, norm_X_train, y_train)"
   ]
  }
 ],
 "metadata": {
  "kernelspec": {
   "display_name": "Python 3",
   "language": "python",
   "name": "python3"
  },
  "language_info": {
   "codemirror_mode": {
    "name": "ipython",
    "version": 3
   },
   "file_extension": ".py",
   "mimetype": "text/x-python",
   "name": "python",
   "nbconvert_exporter": "python",
   "pygments_lexer": "ipython3",
   "version": "3.7.3"
  }
 },
 "nbformat": 4,
 "nbformat_minor": 4
}
