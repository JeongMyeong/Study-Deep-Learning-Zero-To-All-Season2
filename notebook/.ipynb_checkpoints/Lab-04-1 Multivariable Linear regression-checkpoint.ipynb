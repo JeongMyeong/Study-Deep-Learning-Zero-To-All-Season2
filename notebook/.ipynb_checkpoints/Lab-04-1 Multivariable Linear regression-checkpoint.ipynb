{
 "cells": [
  {
   "cell_type": "code",
   "execution_count": 3,
   "metadata": {},
   "outputs": [],
   "source": [
    "import torch\n",
    "import torch.nn as nn\n",
    "import torch.nn.functional as F\n",
    "\n",
    "class MultivariateLinearRegressionModel(nn.Module):\n",
    "    def __init__(self):\n",
    "        super().__init__()\n",
    "        self.linear = nn.Linear(3, 1)\n",
    "        \n",
    "        def forward(self, x):\n",
    "            return self.linear(x)\n",
    "\n",
    "# 데이터\n",
    "X_train = torch.FloatTensor([[73, 80, 75],\n",
    "                             [93, 88, 93],\n",
    "                             [89, 91, 90], \n",
    "                             [96, 98, 100], \n",
    "                             [73, 66, 70]])\n",
    "y_train = torch.FloatTensor([[152], [185], [180], [196], [142]])\n",
    "\n",
    "# 모델 초기화\n",
    "W = torch.zeros((3, 1), requires_grad=True)\n",
    "b = torch.zeros(1, requires_grad=True)\n",
    "\n",
    "model = MultivariateLinearRegressionModel()\n",
    "\n",
    "# optimizer 설정\n",
    "optimizer = torch.optim.SGD([W, b], lr=1e-5)"
   ]
  },
  {
   "cell_type": "code",
   "execution_count": 5,
   "metadata": {},
   "outputs": [
    {
     "name": "stdout",
     "output_type": "stream",
     "text": [
      "Epoch :    0/20 hypothesis :  tensor([152.8022, 183.6741, 180.9683, 197.0706, 140.1009]) cost : 1.6183\n",
      "Epoch :    1/20 hypothesis :  tensor([152.8021, 183.6749, 180.9686, 197.0709, 140.1016]) cost : 1.6176\n",
      "Epoch :    2/20 hypothesis :  tensor([152.8019, 183.6754, 180.9687, 197.0710, 140.1022]) cost : 1.6169\n",
      "Epoch :    3/20 hypothesis :  tensor([152.8016, 183.6758, 180.9687, 197.0711, 140.1027]) cost : 1.6162\n",
      "Epoch :    4/20 hypothesis :  tensor([152.8012, 183.6762, 180.9686, 197.0710, 140.1032]) cost : 1.6155\n",
      "Epoch :    5/20 hypothesis :  tensor([152.8008, 183.6765, 180.9686, 197.0710, 140.1036]) cost : 1.6148\n",
      "Epoch :    6/20 hypothesis :  tensor([152.8004, 183.6768, 180.9684, 197.0709, 140.1041]) cost : 1.6141\n",
      "Epoch :    7/20 hypothesis :  tensor([152.8000, 183.6772, 180.9683, 197.0707, 140.1045]) cost : 1.6134\n",
      "Epoch :    8/20 hypothesis :  tensor([152.7995, 183.6775, 180.9682, 197.0706, 140.1049]) cost : 1.6127\n",
      "Epoch :    9/20 hypothesis :  tensor([152.7991, 183.6778, 180.9681, 197.0705, 140.1053]) cost : 1.6120\n",
      "Epoch :   10/20 hypothesis :  tensor([152.7987, 183.6781, 180.9679, 197.0704, 140.1057]) cost : 1.6113\n",
      "Epoch :   11/20 hypothesis :  tensor([152.7982, 183.6784, 180.9678, 197.0703, 140.1061]) cost : 1.6106\n",
      "Epoch :   12/20 hypothesis :  tensor([152.7978, 183.6787, 180.9677, 197.0702, 140.1065]) cost : 1.6099\n",
      "Epoch :   13/20 hypothesis :  tensor([152.7974, 183.6790, 180.9676, 197.0701, 140.1069]) cost : 1.6092\n",
      "Epoch :   14/20 hypothesis :  tensor([152.7969, 183.6793, 180.9674, 197.0700, 140.1073]) cost : 1.6085\n",
      "Epoch :   15/20 hypothesis :  tensor([152.7965, 183.6796, 180.9673, 197.0699, 140.1078]) cost : 1.6078\n",
      "Epoch :   16/20 hypothesis :  tensor([152.7961, 183.6799, 180.9672, 197.0698, 140.1082]) cost : 1.6071\n",
      "Epoch :   17/20 hypothesis :  tensor([152.7957, 183.6802, 180.9670, 197.0697, 140.1086]) cost : 1.6064\n",
      "Epoch :   18/20 hypothesis :  tensor([152.7952, 183.6805, 180.9669, 197.0695, 140.1090]) cost : 1.6057\n",
      "Epoch :   19/20 hypothesis :  tensor([152.7948, 183.6807, 180.9668, 197.0694, 140.1094]) cost : 1.6050\n",
      "Epoch :   20/20 hypothesis :  tensor([152.7944, 183.6810, 180.9666, 197.0693, 140.1098]) cost : 1.6043\n"
     ]
    }
   ],
   "source": [
    "epochs = 20\n",
    "for epoch in range(epochs+1):\n",
    "    # h(x)계산\n",
    "    hypothesis = X_train.matmul(W) + b\n",
    "#     hypothesis = model(X_train)\n",
    "    \n",
    "    # cost 계산\n",
    "    cost = torch.mean((hypothesis - y_train) **2)\n",
    "#     cost = F.mse_loss(prediction, y_train)\n",
    "    \n",
    "    # cost로 H(x) 개선\n",
    "    optimizer.zero_grad()\n",
    "    cost.backward()\n",
    "    optimizer.step()\n",
    "    \n",
    "    print('Epoch : {:4d}/{} hypothesis :  {} cost : {:.4f}'.format( epoch, epochs, hypothesis.squeeze().detach(), cost.item()))"
   ]
  },
  {
   "cell_type": "code",
   "execution_count": null,
   "metadata": {},
   "outputs": [],
   "source": []
  }
 ],
 "metadata": {
  "kernelspec": {
   "display_name": "Python 3",
   "language": "python",
   "name": "python3"
  },
  "language_info": {
   "codemirror_mode": {
    "name": "ipython",
    "version": 3
   },
   "file_extension": ".py",
   "mimetype": "text/x-python",
   "name": "python",
   "nbconvert_exporter": "python",
   "pygments_lexer": "ipython3",
   "version": "3.7.3"
  }
 },
 "nbformat": 4,
 "nbformat_minor": 4
}
