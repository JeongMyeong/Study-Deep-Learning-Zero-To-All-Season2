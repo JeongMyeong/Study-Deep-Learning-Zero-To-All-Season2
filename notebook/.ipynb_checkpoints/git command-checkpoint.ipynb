{
 "cells": [
  {
   "cell_type": "code",
   "execution_count": 1,
   "metadata": {},
   "outputs": [
    {
     "name": "stdout",
     "output_type": "stream",
     "text": [
      "Already up to date.\n"
     ]
    }
   ],
   "source": [
    "!git pull"
   ]
  },
  {
   "cell_type": "code",
   "execution_count": 5,
   "metadata": {},
   "outputs": [
    {
     "name": "stderr",
     "output_type": "stream",
     "text": [
      "warning: LF will be replaced by CRLF in notebook/Lab-08-2 Multi Layer Perceptron.ipynb.\n",
      "The file will have its original line endings in your working directory\n",
      "warning: LF will be replaced by CRLF in notebook/git command.ipynb.\n",
      "The file will have its original line endings in your working directory\n",
      "warning: LF will be replaced by CRLF in notebook/.ipynb_checkpoints/Lab-09-1 ReLU-checkpoint.ipynb.\n",
      "The file will have its original line endings in your working directory\n",
      "warning: LF will be replaced by CRLF in notebook/.ipynb_checkpoints/Lab-09-2 Weight initialization-checkpoint.ipynb.\n",
      "The file will have its original line endings in your working directory\n",
      "warning: LF will be replaced by CRLF in notebook/Lab-09-1 ReLU.ipynb.\n",
      "The file will have its original line endings in your working directory\n",
      "warning: LF will be replaced by CRLF in notebook/Lab-09-2 Weight initialization.ipynb.\n",
      "The file will have its original line endings in your working directory\n"
     ]
    },
    {
     "name": "stdout",
     "output_type": "stream",
     "text": [
      "[master 5b5eeba] [Upload lab09-2]\n",
      " 6 files changed, 833 insertions(+), 16 deletions(-)\n",
      " create mode 100644 notebook/.ipynb_checkpoints/Lab-09-1 ReLU-checkpoint.ipynb\n",
      " create mode 100644 notebook/.ipynb_checkpoints/Lab-09-2 Weight initialization-checkpoint.ipynb\n",
      " create mode 100644 notebook/Lab-09-1 ReLU.ipynb\n",
      " create mode 100644 notebook/Lab-09-2 Weight initialization.ipynb\n"
     ]
    },
    {
     "name": "stderr",
     "output_type": "stream",
     "text": [
      "To https://github.com/JeongMyeong/Study-Deep-Learning-Zero-To-All-Season2.git\n",
      "   fad7f99..5b5eeba  master -> master\n"
     ]
    }
   ],
   "source": [
    "!git add .\n",
    "!git commit -m \"[Upload lab09-2]\"\n",
    "!git push"
   ]
  }
 ],
 "metadata": {
  "kernelspec": {
   "display_name": "Python 3",
   "language": "python",
   "name": "python3"
  },
  "language_info": {
   "codemirror_mode": {
    "name": "ipython",
    "version": 3
   },
   "file_extension": ".py",
   "mimetype": "text/x-python",
   "name": "python",
   "nbconvert_exporter": "python",
   "pygments_lexer": "ipython3",
   "version": "3.7.3"
  }
 },
 "nbformat": 4,
 "nbformat_minor": 4
}
