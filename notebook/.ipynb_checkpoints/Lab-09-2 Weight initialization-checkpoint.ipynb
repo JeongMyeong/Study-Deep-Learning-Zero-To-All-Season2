{
 "cells": [
  {
   "cell_type": "code",
   "execution_count": 1,
   "metadata": {},
   "outputs": [],
   "source": [
    "import torch\n",
    "import torchvision.datasets as dsets\n",
    "import torchvision.transforms as transforms\n",
    "import matplotlib.pyplot as plt\n",
    "import random\n",
    "device = 'cuda'\n",
    "\n",
    "torch.manual_seed(42)\n",
    "torch.cuda.manual_seed_all(42)"
   ]
  },
  {
   "cell_type": "code",
   "execution_count": 2,
   "metadata": {},
   "outputs": [],
   "source": [
    "learning_rate = 0.001\n",
    "epochs = 15\n",
    "batch_size = 100"
   ]
  },
  {
   "cell_type": "code",
   "execution_count": 3,
   "metadata": {},
   "outputs": [],
   "source": [
    "# MNIST dataset\n",
    "mnist_train = dsets.MNIST(root='MNIST_data/',\n",
    "                          train=True,\n",
    "                          transform=transforms.ToTensor(),\n",
    "                          download=True\n",
    "                         )\n",
    "mnist_test = dsets.MNIST(root='MNIST_data/',\n",
    "                          train=False,\n",
    "                          transform=transforms.ToTensor(),\n",
    "                          download=True\n",
    "                         )\n"
   ]
  },
  {
   "cell_type": "code",
   "execution_count": 4,
   "metadata": {},
   "outputs": [],
   "source": [
    "data_loader = torch.utils.data.DataLoader(dataset=mnist_train, \n",
    "                                          batch_size=batch_size, \n",
    "                                          shuffle=True, \n",
    "                                          drop_last=True)"
   ]
  },
  {
   "cell_type": "code",
   "execution_count": 5,
   "metadata": {},
   "outputs": [],
   "source": [
    "# nn Layers\n",
    "linear1 = torch.nn.Linear(784, 256, bias=True)#.to(device)\n",
    "linear2 = torch.nn.Linear(256, 256, bias=True)#.to(device)\n",
    "linear3 = torch.nn.Linear(256, 10, bias=True)#.to(device)\n",
    "relu = torch.nn.ReLU()"
   ]
  },
  {
   "cell_type": "code",
   "execution_count": 6,
   "metadata": {},
   "outputs": [
    {
     "data": {
      "text/plain": [
       "Parameter containing:\n",
       "tensor([[-1.4066e-01,  1.5811e-02, -4.7211e-02,  ...,  4.2434e-02,\n",
       "          8.2080e-02, -4.9216e-03],\n",
       "        [ 2.1817e-02, -1.3367e-01, -1.8529e-02,  ...,  1.1630e-01,\n",
       "          4.6168e-02,  1.2133e-01],\n",
       "        [-7.9218e-02,  1.0470e-01,  9.1544e-02,  ...,  1.9661e-02,\n",
       "         -1.6139e-03,  1.4067e-01],\n",
       "        ...,\n",
       "        [-9.3492e-02,  4.0202e-02,  5.3307e-02,  ...,  3.8828e-02,\n",
       "         -1.4230e-01, -2.6001e-02],\n",
       "        [-9.5442e-05,  1.4591e-01,  7.8737e-02,  ...,  4.4723e-02,\n",
       "         -1.6970e-02,  8.8788e-03],\n",
       "        [ 6.6389e-02,  9.5307e-02,  2.4188e-02,  ..., -5.2007e-02,\n",
       "         -9.1484e-02, -5.8983e-02]], requires_grad=True)"
      ]
     },
     "execution_count": 6,
     "metadata": {},
     "output_type": "execute_result"
    }
   ],
   "source": [
    "torch.nn.init.xavier_uniform_(linear1.weight)\n",
    "torch.nn.init.xavier_uniform_(linear2.weight)\n",
    "torch.nn.init.xavier_uniform_(linear3.weight)"
   ]
  },
  {
   "cell_type": "code",
   "execution_count": 7,
   "metadata": {},
   "outputs": [],
   "source": [
    "model = torch.nn.Sequential(linear1, relu, linear2, relu, linear3).to(device)"
   ]
  },
  {
   "cell_type": "code",
   "execution_count": 8,
   "metadata": {},
   "outputs": [],
   "source": [
    "criterion = torch.nn.CrossEntropyLoss().to(device)\n",
    "optimizer = torch.optim.Adam(model.parameters(), lr=learning_rate)"
   ]
  },
  {
   "cell_type": "code",
   "execution_count": 9,
   "metadata": {},
   "outputs": [
    {
     "name": "stdout",
     "output_type": "stream",
     "text": [
      "Epoch :    1/15 Cost : 0.11094240099191666\n",
      "Epoch :    2/15 Cost : 0.04956073313951492\n",
      "Epoch :    3/15 Cost : 0.1045060083270073\n",
      "Epoch :    4/15 Cost : 0.08679031580686569\n",
      "Epoch :    5/15 Cost : 0.010126003995537758\n",
      "Epoch :    6/15 Cost : 0.015559220686554909\n",
      "Epoch :    7/15 Cost : 0.0052786017768085\n",
      "Epoch :    8/15 Cost : 0.0023484802804887295\n",
      "Epoch :    9/15 Cost : 0.09143419563770294\n",
      "Epoch :   10/15 Cost : 0.016598667949438095\n",
      "Epoch :   11/15 Cost : 0.021085789427161217\n",
      "Epoch :   12/15 Cost : 0.0018181896302849054\n",
      "Epoch :   13/15 Cost : 0.009035081602633\n",
      "Epoch :   14/15 Cost : 0.0014449453447014093\n",
      "Epoch :   15/15 Cost : 0.0008320999331772327\n"
     ]
    }
   ],
   "source": [
    "total_batch = len(data_loader)\n",
    "for epoch in range(epochs):\n",
    "    avg_cost = 0\n",
    "    \n",
    "    for X, y in data_loader:\n",
    "        X = X.view(-1, 28*28).to(device)\n",
    "        y = y.to(device)\n",
    "        \n",
    "        hypothesis = model(X)\n",
    "        cost = criterion(hypothesis, y)\n",
    "        optimizer.zero_grad()\n",
    "        cost.backward()\n",
    "        optimizer.step()\n",
    "        \n",
    "        avg_cost += cost / total_batch\n",
    "        \n",
    "    print('Epoch : {:4d}/{} Cost : {}'.format(epoch+1, epochs, cost.item()))"
   ]
  },
  {
   "cell_type": "code",
   "execution_count": 11,
   "metadata": {},
   "outputs": [
    {
     "name": "stdout",
     "output_type": "stream",
     "text": [
      "Acc 0.978500\n",
      "Label 4\n",
      "Prediction : 4\n"
     ]
    },
    {
     "data": {
      "image/png": "[encoded data removed]",
      "text/plain": [
       "<Figure size 432x288 with 1 Axes>"
      ]
     },
     "metadata": {
      "needs_background": "light"
     },
     "output_type": "display_data"
    }
   ],
   "source": [
    "import matplotlib.pyplot as plt\n",
    "# test the model using test sets\n",
    "with torch.no_grad():\n",
    "    X_test = mnist_test.test_data.view(-1, 28*28).float().to(device)\n",
    "    y_test = mnist_test.test_labels.to(device)\n",
    "    \n",
    "    prediction = model(X_test)\n",
    "    correct_prediction = torch.argmax(prediction, 1) == y_test\n",
    "    acc = correct_prediction.float().mean()\n",
    "    print('Acc {:.6f}'.format(acc.item()))\n",
    "    \n",
    "    # Get one and predict\n",
    "    r = random.randint(0, len(mnist_test) -1 )\n",
    "    X_single_data = mnist_test.test_data[r:r+1].view(-1, 28*28).float().to(device)\n",
    "    y_single_data = mnist_test.test_labels[r:r+1].to(device)\n",
    "    \n",
    "    print('Label {}'.format(y_single_data.item()))\n",
    "    single_prediction = model(X_single_data)\n",
    "    print('Prediction : {}'.format(torch.argmax(single_prediction, 1).item()))\n",
    "    \n",
    "    plt.imshow(mnist_test.test_data[r:r+1].view(28,28), cmap='Greys')\n",
    "    plt.show()\n"
   ]
  }
 ],
 "metadata": {
  "kernelspec": {
   "display_name": "Python 3",
   "language": "python",
   "name": "python3"
  },
  "language_info": {
   "codemirror_mode": {
    "name": "ipython",
    "version": 3
   },
   "file_extension": ".py",
   "mimetype": "text/x-python",
   "name": "python",
   "nbconvert_exporter": "python",
   "pygments_lexer": "ipython3",
   "version": "3.7.3"
  }
 },
 "nbformat": 4,
 "nbformat_minor": 4
}
