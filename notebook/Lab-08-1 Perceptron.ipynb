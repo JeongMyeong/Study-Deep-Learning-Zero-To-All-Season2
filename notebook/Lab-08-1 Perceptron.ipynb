{
 "cells": [
  {
   "cell_type": "code",
   "execution_count": null,
   "metadata": {},
   "outputs": [],
   "source": [
    "import torch\n"
   ]
  },
  {
   "cell_type": "code",
   "execution_count": 2,
   "metadata": {},
   "outputs": [],
   "source": [
    "device = 'cuda'\n",
    "\n",
    "torch.manual_seed(42)\n",
    "torch.cuda.manual_seed_all(42)"
   ]
  },
  {
   "cell_type": "code",
   "execution_count": 3,
   "metadata": {},
   "outputs": [],
   "source": [
    "X = torch.FloatTensor([[0, 0],\n",
    "                       [0, 1],\n",
    "                       [1, 0],\n",
    "                       [1, 1]\n",
    "                      ]).to(device)\n",
    "y = torch.FloatTensor([[0], [1], [1], [0]]).to(device)\n",
    "\n"
   ]
  },
  {
   "cell_type": "code",
   "execution_count": 4,
   "metadata": {},
   "outputs": [],
   "source": [
    "linear = torch.nn.Linear(2, 1, bias=True)\n",
    "sigmoid = torch.nn.Sigmoid()\n",
    "model = torch.nn.Sequential(linear, sigmoid).to(device)"
   ]
  },
  {
   "cell_type": "code",
   "execution_count": 5,
   "metadata": {},
   "outputs": [],
   "source": [
    "criterion = torch.nn.BCELoss().to(device)\n",
    "optimizer = torch.optim.SGD(model.parameters(), lr=1)"
   ]
  },
  {
   "cell_type": "code",
   "execution_count": 6,
   "metadata": {},
   "outputs": [
    {
     "name": "stdout",
     "output_type": "stream",
     "text": [
      "step : 0 cost : 0.731738\n",
      "step : 100 cost : 0.693151\n",
      "step : 200 cost : 0.693147\n",
      "step : 300 cost : 0.693147\n",
      "step : 400 cost : 0.693147\n",
      "step : 500 cost : 0.693147\n",
      "step : 600 cost : 0.693147\n",
      "step : 700 cost : 0.693147\n",
      "step : 800 cost : 0.693147\n",
      "step : 900 cost : 0.693147\n",
      "step : 1000 cost : 0.693147\n",
      "step : 1100 cost : 0.693147\n",
      "step : 1200 cost : 0.693147\n",
      "step : 1300 cost : 0.693147\n",
      "step : 1400 cost : 0.693147\n",
      "step : 1500 cost : 0.693147\n",
      "step : 1600 cost : 0.693147\n",
      "step : 1700 cost : 0.693147\n",
      "step : 1800 cost : 0.693147\n",
      "step : 1900 cost : 0.693147\n",
      "step : 2000 cost : 0.693147\n",
      "step : 2100 cost : 0.693147\n",
      "step : 2200 cost : 0.693147\n",
      "step : 2300 cost : 0.693147\n",
      "step : 2400 cost : 0.693147\n",
      "step : 2500 cost : 0.693147\n",
      "step : 2600 cost : 0.693147\n",
      "step : 2700 cost : 0.693147\n",
      "step : 2800 cost : 0.693147\n",
      "step : 2900 cost : 0.693147\n",
      "step : 3000 cost : 0.693147\n",
      "step : 3100 cost : 0.693147\n",
      "step : 3200 cost : 0.693147\n",
      "step : 3300 cost : 0.693147\n",
      "step : 3400 cost : 0.693147\n",
      "step : 3500 cost : 0.693147\n",
      "step : 3600 cost : 0.693147\n",
      "step : 3700 cost : 0.693147\n",
      "step : 3800 cost : 0.693147\n",
      "step : 3900 cost : 0.693147\n",
      "step : 4000 cost : 0.693147\n",
      "step : 4100 cost : 0.693147\n",
      "step : 4200 cost : 0.693147\n",
      "step : 4300 cost : 0.693147\n",
      "step : 4400 cost : 0.693147\n",
      "step : 4500 cost : 0.693147\n",
      "step : 4600 cost : 0.693147\n",
      "step : 4700 cost : 0.693147\n",
      "step : 4800 cost : 0.693147\n",
      "step : 4900 cost : 0.693147\n",
      "step : 5000 cost : 0.693147\n",
      "step : 5100 cost : 0.693147\n",
      "step : 5200 cost : 0.693147\n",
      "step : 5300 cost : 0.693147\n",
      "step : 5400 cost : 0.693147\n",
      "step : 5500 cost : 0.693147\n",
      "step : 5600 cost : 0.693147\n",
      "step : 5700 cost : 0.693147\n",
      "step : 5800 cost : 0.693147\n",
      "step : 5900 cost : 0.693147\n",
      "step : 6000 cost : 0.693147\n",
      "step : 6100 cost : 0.693147\n",
      "step : 6200 cost : 0.693147\n",
      "step : 6300 cost : 0.693147\n",
      "step : 6400 cost : 0.693147\n",
      "step : 6500 cost : 0.693147\n",
      "step : 6600 cost : 0.693147\n",
      "step : 6700 cost : 0.693147\n",
      "step : 6800 cost : 0.693147\n",
      "step : 6900 cost : 0.693147\n",
      "step : 7000 cost : 0.693147\n",
      "step : 7100 cost : 0.693147\n",
      "step : 7200 cost : 0.693147\n",
      "step : 7300 cost : 0.693147\n",
      "step : 7400 cost : 0.693147\n",
      "step : 7500 cost : 0.693147\n",
      "step : 7600 cost : 0.693147\n",
      "step : 7700 cost : 0.693147\n",
      "step : 7800 cost : 0.693147\n",
      "step : 7900 cost : 0.693147\n",
      "step : 8000 cost : 0.693147\n",
      "step : 8100 cost : 0.693147\n",
      "step : 8200 cost : 0.693147\n",
      "step : 8300 cost : 0.693147\n",
      "step : 8400 cost : 0.693147\n",
      "step : 8500 cost : 0.693147\n",
      "step : 8600 cost : 0.693147\n",
      "step : 8700 cost : 0.693147\n",
      "step : 8800 cost : 0.693147\n",
      "step : 8900 cost : 0.693147\n",
      "step : 9000 cost : 0.693147\n",
      "step : 9100 cost : 0.693147\n",
      "step : 9200 cost : 0.693147\n",
      "step : 9300 cost : 0.693147\n",
      "step : 9400 cost : 0.693147\n",
      "step : 9500 cost : 0.693147\n",
      "step : 9600 cost : 0.693147\n",
      "step : 9700 cost : 0.693147\n",
      "step : 9800 cost : 0.693147\n",
      "step : 9900 cost : 0.693147\n",
      "step : 10000 cost : 0.693147\n"
     ]
    }
   ],
   "source": [
    "for step in range(10001):\n",
    "    optimizer.zero_grad()\n",
    "    hypothesis = model(X)\n",
    "    \n",
    "    cost = criterion(hypothesis, y)\n",
    "    cost.backward()\n",
    "    optimizer.step()\n",
    "    \n",
    "    if step%100 == 0 :\n",
    "        print('step : {} cost : {:.6f}'.format(step, cost.item()))\n",
    "    "
   ]
  },
  {
   "cell_type": "code",
   "execution_count": 8,
   "metadata": {},
   "outputs": [
    {
     "name": "stdout",
     "output_type": "stream",
     "text": [
      "\n",
      "# Hypothesis : \n",
      "[[0.5]\n",
      " [0.5]\n",
      " [0.5]\n",
      " [0.5]] \n",
      "# Correct : \n",
      "[[0.]\n",
      " [0.]\n",
      " [0.]\n",
      " [0.]] \n",
      "# Accuracy : 0.5\n"
     ]
    }
   ],
   "source": [
    "with torch.no_grad():\n",
    "    hypothesis = model(X)\n",
    "    predicted = (hypothesis > 0.5).float()\n",
    "    acc = (predicted==y).float().mean()\n",
    "    print('\\n# Hypothesis : \\n{} \\n# Correct : \\n{} \\n# Accuracy : {}'.format(hypothesis.detach().cpu().numpy(), predicted.detach().cpu().numpy(), acc.item()))"
   ]
  }
 ],
 "metadata": {
  "kernelspec": {
   "display_name": "Python 3",
   "language": "python",
   "name": "python3"
  },
  "language_info": {
   "codemirror_mode": {
    "name": "ipython",
    "version": 3
   },
   "file_extension": ".py",
   "mimetype": "text/x-python",
   "name": "python",
   "nbconvert_exporter": "python",
   "pygments_lexer": "ipython3",
   "version": "3.7.3"
  }
 },
 "nbformat": 4,
 "nbformat_minor": 4
}
